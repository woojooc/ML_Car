{
 "cells": [
  {
   "cell_type": "code",
   "execution_count": null,
   "metadata": {},
   "outputs": [],
   "source": [
    "import requests\n",
    "import time\n",
    "from bs4 import BeautifulSoup\n",
    "import pandas as pd\n",
    "from selenium import webdriver\n",
    "from selenium.webdriver.common.keys import Keys\n",
    "from selenium.webdriver.common.by import By\n",
    "from selenium.webdriver.chrome.service import Service\n",
    "from webdriver_manager.chrome import ChromeDriverManager\n",
    "\n",
    "# 크롬 웹드라이버 설치 및 설정\n",
    "chrome_options = webdriver.ChromeOptions()\n",
    "\n",
    "# user 로 보이기위한 user_agent// 각자의 컴퓨터에 맞게 확인 필요\n",
    "user_agent = 'Mozilla/5.0 (Windows NT 10.0; Win64; x64) AppleWebKit/537.36 (KHTML, like Gecko) Chrome/114.0.0.0 Safari/537.36'\n",
    "chrome_options.add_argument('user-agent=' + user_agent)\n",
    "\n",
    "chrome_options.add_experimental_option('detach', True)\n",
    "driver = webdriver.Chrome(service=Service(ChromeDriverManager().install()), options=chrome_options)\n",
    "driver.maximize_window()\n",
    "\n",
    "url = 'https://www.bobaedream.co.kr/dealguide/market_price_new.php'\n",
    "\n",
    "df_cars=[]\n",
    "\n",
    "count = -1\n",
    "\n",
    "# 크롬 열기 및 주소입력\n",
    "driver.get(url)\n",
    "driver.implicitly_wait(5)\n",
    "time.sleep(1)\n",
    "\n",
    "# 데이터 셋\n",
    "info=[\"이름\",\"차량번호\",\"링크\",\"연식\",\"주행거리\",\"연료\",\"배기량\",\"색상\",\"보증정보\",\"가격\",\"신차대비가격\"]\n",
    "\n",
    "coloptions=[\"옵션_선루프\",\"옵션_파노라마선루프\",\"옵션_열선앞\",\"옵션_열선뒤\",\"옵션_전방센서\"\n",
    "     ,\"옵션_후방센서\",\"옵션_전방캠\",\"옵션_후방캠\",\"옵션_어라운드뷰\",\"옵션_네비순정\"]\n",
    "\n",
    "findoptions=[\"선루프\",\"선루프(파노라마)\",\"열선시트(앞)\",\"열선시트(뒤)\",\"전방감지센서\"\n",
    "     ,\"후방감지센서\",\"전방카메라\",\"후방카메라\",\"어라운드뷰\",\"네비게이션\"]\n",
    "\n",
    "colacci_info1=[\"보험이력등록\",\"소유자변경횟수\",\"사고상세_전손\",\"사고상세_침수전손\",\"사고상세_침수분손\",\"사고상세_도난\",\"보험_내차피해(횟수)\",\"보험_내차피해(가격)\",\"사고상세_타차가해(횟수)\",\"보험_내차피해(가격)\"]\n",
    "\n",
    "cols=info+coloptions+colacci_info1\n",
    "    #링크추가: 아웃라이어인지 확인하기 위해\n",
    "\n"
   ]
  },
  {
   "cell_type": "code",
   "execution_count": null,
   "metadata": {},
   "outputs": [],
   "source": [
    "# 매물 선택\n",
    "driver.find_element(By.XPATH, '//*[@id=\"frm_search\"]/div/div/div[1]/div/dl/dd[1]/button').click()\n",
    "\n",
    "driver.implicitly_wait(5)\n",
    "time.sleep(2)\n",
    "\n",
    "# 페이지 읽기\n",
    "html = driver.page_source\n",
    "soup = BeautifulSoup(html, 'html.parser')\n",
    "time.sleep(1)"
   ]
  }
 ],
 "metadata": {
  "language_info": {
   "name": "python"
  },
  "orig_nbformat": 4
 },
 "nbformat": 4,
 "nbformat_minor": 2
}
