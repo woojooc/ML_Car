{
 "cells": [
  {
   "attachments": {},
   "cell_type": "markdown",
   "metadata": {},
   "source": [
    "### DACON(데이콘) 데이콘 Basic 자동차 가격 예측 AI 경진대회"
   ]
  },
  {
   "attachments": {},
   "cell_type": "markdown",
   "metadata": {},
   "source": [
    "##### RandomForest 모델 학습"
   ]
  },
  {
   "cell_type": "code",
   "execution_count": 22,
   "metadata": {},
   "outputs": [],
   "source": [
    "# https://injo.tistory.com/30\n",
    "# 랜덤 포레스트는 여러 개의 결정트리(Decision Tree)를 활용한 배깅 방식의 대표적인 알고리즘\n",
    "# 배깅 방식 : 배깅(Bagging)은 Bootstrap Aggregating의 약자로, 보팅(Voting)과는 달리 동일한 \n",
    "# 알고리즘으로 여러 분류기를 만들어 보팅으로 최종 결정하는 알고리즘"
   ]
  },
  {
   "cell_type": "code",
   "execution_count": 23,
   "metadata": {},
   "outputs": [],
   "source": [
    "import pandas as pd\n",
    "\n",
    "preprocess_X = pd.read_csv('preprocessed_data//preprocess_X_data.csv',index_col=0)\n",
    "preprocess_Y = pd.read_csv('preprocessed_data//preprocess_Y_data.csv',index_col=0) "
   ]
  },
  {
   "cell_type": "code",
   "execution_count": 24,
   "metadata": {},
   "outputs": [
    {
     "data": {
      "text/html": [
       "<div>\n",
       "<style scoped>\n",
       "    .dataframe tbody tr th:only-of-type {\n",
       "        vertical-align: middle;\n",
       "    }\n",
       "\n",
       "    .dataframe tbody tr th {\n",
       "        vertical-align: top;\n",
       "    }\n",
       "\n",
       "    .dataframe thead th {\n",
       "        text-align: right;\n",
       "    }\n",
       "</style>\n",
       "<table border=\"1\" class=\"dataframe\">\n",
       "  <thead>\n",
       "    <tr style=\"text-align: right;\">\n",
       "      <th></th>\n",
       "      <th>Year_prd</th>\n",
       "      <th>Year_model</th>\n",
       "      <th>Brand</th>\n",
       "      <th>Model</th>\n",
       "      <th>Mileage</th>\n",
       "      <th>CC</th>\n",
       "      <th>Fuel</th>\n",
       "    </tr>\n",
       "  </thead>\n",
       "  <tbody>\n",
       "    <tr>\n",
       "      <th>0</th>\n",
       "      <td>2018</td>\n",
       "      <td>2014</td>\n",
       "      <td>16</td>\n",
       "      <td>47</td>\n",
       "      <td>85231</td>\n",
       "      <td>999</td>\n",
       "      <td>2</td>\n",
       "    </tr>\n",
       "    <tr>\n",
       "      <th>1</th>\n",
       "      <td>2010</td>\n",
       "      <td>2006</td>\n",
       "      <td>17</td>\n",
       "      <td>20</td>\n",
       "      <td>135000</td>\n",
       "      <td>1598</td>\n",
       "      <td>2</td>\n",
       "    </tr>\n",
       "    <tr>\n",
       "      <th>2</th>\n",
       "      <td>2002</td>\n",
       "      <td>2002</td>\n",
       "      <td>9</td>\n",
       "      <td>36</td>\n",
       "      <td>255223</td>\n",
       "      <td>1796</td>\n",
       "      <td>2</td>\n",
       "    </tr>\n",
       "    <tr>\n",
       "      <th>3</th>\n",
       "      <td>2006</td>\n",
       "      <td>2001</td>\n",
       "      <td>11</td>\n",
       "      <td>133</td>\n",
       "      <td>238000</td>\n",
       "      <td>2184</td>\n",
       "      <td>1</td>\n",
       "    </tr>\n",
       "    <tr>\n",
       "      <th>4</th>\n",
       "      <td>2007</td>\n",
       "      <td>2007</td>\n",
       "      <td>3</td>\n",
       "      <td>25</td>\n",
       "      <td>251000</td>\n",
       "      <td>1910</td>\n",
       "      <td>1</td>\n",
       "    </tr>\n",
       "    <tr>\n",
       "      <th>...</th>\n",
       "      <td>...</td>\n",
       "      <td>...</td>\n",
       "      <td>...</td>\n",
       "      <td>...</td>\n",
       "      <td>...</td>\n",
       "      <td>...</td>\n",
       "      <td>...</td>\n",
       "    </tr>\n",
       "    <tr>\n",
       "      <th>57915</th>\n",
       "      <td>2017</td>\n",
       "      <td>2011</td>\n",
       "      <td>9</td>\n",
       "      <td>23</td>\n",
       "      <td>64839</td>\n",
       "      <td>1461</td>\n",
       "      <td>1</td>\n",
       "    </tr>\n",
       "    <tr>\n",
       "      <th>57916</th>\n",
       "      <td>2006</td>\n",
       "      <td>2005</td>\n",
       "      <td>12</td>\n",
       "      <td>142</td>\n",
       "      <td>299850</td>\n",
       "      <td>1796</td>\n",
       "      <td>2</td>\n",
       "    </tr>\n",
       "    <tr>\n",
       "      <th>57917</th>\n",
       "      <td>2013</td>\n",
       "      <td>2003</td>\n",
       "      <td>3</td>\n",
       "      <td>90</td>\n",
       "      <td>112000</td>\n",
       "      <td>1368</td>\n",
       "      <td>2</td>\n",
       "    </tr>\n",
       "    <tr>\n",
       "      <th>57918</th>\n",
       "      <td>2006</td>\n",
       "      <td>2004</td>\n",
       "      <td>12</td>\n",
       "      <td>19</td>\n",
       "      <td>189321</td>\n",
       "      <td>1598</td>\n",
       "      <td>2</td>\n",
       "    </tr>\n",
       "    <tr>\n",
       "      <th>57919</th>\n",
       "      <td>2005</td>\n",
       "      <td>2004</td>\n",
       "      <td>1</td>\n",
       "      <td>103</td>\n",
       "      <td>144744</td>\n",
       "      <td>1596</td>\n",
       "      <td>2</td>\n",
       "    </tr>\n",
       "  </tbody>\n",
       "</table>\n",
       "<p>56698 rows × 7 columns</p>\n",
       "</div>"
      ],
      "text/plain": [
       "       Year_prd  Year_model  Brand  Model  Mileage    CC  Fuel\n",
       "0          2018        2014     16     47    85231   999     2\n",
       "1          2010        2006     17     20   135000  1598     2\n",
       "2          2002        2002      9     36   255223  1796     2\n",
       "3          2006        2001     11    133   238000  2184     1\n",
       "4          2007        2007      3     25   251000  1910     1\n",
       "...         ...         ...    ...    ...      ...   ...   ...\n",
       "57915      2017        2011      9     23    64839  1461     1\n",
       "57916      2006        2005     12    142   299850  1796     2\n",
       "57917      2013        2003      3     90   112000  1368     2\n",
       "57918      2006        2004     12     19   189321  1598     2\n",
       "57919      2005        2004      1    103   144744  1596     2\n",
       "\n",
       "[56698 rows x 7 columns]"
      ]
     },
     "execution_count": 24,
     "metadata": {},
     "output_type": "execute_result"
    }
   ],
   "source": [
    "preprocess_X"
   ]
  },
  {
   "cell_type": "code",
   "execution_count": 25,
   "metadata": {},
   "outputs": [
    {
     "data": {
      "text/html": [
       "<div>\n",
       "<style scoped>\n",
       "    .dataframe tbody tr th:only-of-type {\n",
       "        vertical-align: middle;\n",
       "    }\n",
       "\n",
       "    .dataframe tbody tr th {\n",
       "        vertical-align: top;\n",
       "    }\n",
       "\n",
       "    .dataframe thead th {\n",
       "        text-align: right;\n",
       "    }\n",
       "</style>\n",
       "<table border=\"1\" class=\"dataframe\">\n",
       "  <thead>\n",
       "    <tr style=\"text-align: right;\">\n",
       "      <th></th>\n",
       "      <th>Price</th>\n",
       "    </tr>\n",
       "  </thead>\n",
       "  <tbody>\n",
       "    <tr>\n",
       "      <th>0</th>\n",
       "      <td>51.74</td>\n",
       "    </tr>\n",
       "    <tr>\n",
       "      <th>1</th>\n",
       "      <td>41.47</td>\n",
       "    </tr>\n",
       "    <tr>\n",
       "      <th>2</th>\n",
       "      <td>17.81</td>\n",
       "    </tr>\n",
       "    <tr>\n",
       "      <th>3</th>\n",
       "      <td>18.20</td>\n",
       "    </tr>\n",
       "    <tr>\n",
       "      <th>4</th>\n",
       "      <td>17.55</td>\n",
       "    </tr>\n",
       "    <tr>\n",
       "      <th>...</th>\n",
       "      <td>...</td>\n",
       "    </tr>\n",
       "    <tr>\n",
       "      <th>57915</th>\n",
       "      <td>116.87</td>\n",
       "    </tr>\n",
       "    <tr>\n",
       "      <th>57916</th>\n",
       "      <td>15.47</td>\n",
       "    </tr>\n",
       "    <tr>\n",
       "      <th>57917</th>\n",
       "      <td>21.97</td>\n",
       "    </tr>\n",
       "    <tr>\n",
       "      <th>57918</th>\n",
       "      <td>16.77</td>\n",
       "    </tr>\n",
       "    <tr>\n",
       "      <th>57919</th>\n",
       "      <td>19.50</td>\n",
       "    </tr>\n",
       "  </tbody>\n",
       "</table>\n",
       "<p>56698 rows × 1 columns</p>\n",
       "</div>"
      ],
      "text/plain": [
       "        Price\n",
       "0       51.74\n",
       "1       41.47\n",
       "2       17.81\n",
       "3       18.20\n",
       "4       17.55\n",
       "...       ...\n",
       "57915  116.87\n",
       "57916   15.47\n",
       "57917   21.97\n",
       "57918   16.77\n",
       "57919   19.50\n",
       "\n",
       "[56698 rows x 1 columns]"
      ]
     },
     "execution_count": 25,
     "metadata": {},
     "output_type": "execute_result"
    }
   ],
   "source": [
    "preprocess_Y"
   ]
  },
  {
   "attachments": {},
   "cell_type": "markdown",
   "metadata": {},
   "source": [
    "##### Train / Test 데이터 분할"
   ]
  },
  {
   "cell_type": "code",
   "execution_count": 26,
   "metadata": {},
   "outputs": [],
   "source": [
    "from sklearn.model_selection import train_test_split\n",
    "\n",
    "X_train, X_test , y_train , y_test = train_test_split(preprocess_X,preprocess_Y,test_size=0.2,random_state=777)"
   ]
  },
  {
   "cell_type": "code",
   "execution_count": 27,
   "metadata": {},
   "outputs": [
    {
     "data": {
      "text/plain": [
       "((45358, 7), (45358, 1))"
      ]
     },
     "execution_count": 27,
     "metadata": {},
     "output_type": "execute_result"
    }
   ],
   "source": [
    "X_train.shape , y_train.shape"
   ]
  },
  {
   "cell_type": "code",
   "execution_count": 28,
   "metadata": {},
   "outputs": [
    {
     "data": {
      "text/plain": [
       "((11340, 7), (11340, 1))"
      ]
     },
     "execution_count": 28,
     "metadata": {},
     "output_type": "execute_result"
    }
   ],
   "source": [
    "X_test.shape , y_test.shape"
   ]
  },
  {
   "attachments": {},
   "cell_type": "markdown",
   "metadata": {},
   "source": [
    "##### 모델 학습"
   ]
  },
  {
   "cell_type": "code",
   "execution_count": 29,
   "metadata": {},
   "outputs": [],
   "source": [
    "from sklearn.ensemble import RandomForestRegressor\n",
    "\n",
    "rfr = RandomForestRegressor(random_state=777)\n",
    "\n",
    "rfr.fit(X_train,y_train)\n",
    "y_pred = rfr.predict(X_test)"
   ]
  },
  {
   "attachments": {},
   "cell_type": "markdown",
   "metadata": {},
   "source": [
    "##### 평가지표 : MAE, MSE, RMSE, MAPE"
   ]
  },
  {
   "cell_type": "code",
   "execution_count": 30,
   "metadata": {},
   "outputs": [
    {
     "data": {
      "text/plain": [
       "6.302625505752919"
      ]
     },
     "execution_count": 30,
     "metadata": {},
     "output_type": "execute_result"
    }
   ],
   "source": [
    "# 실제 정답 값과 예측 값의 차이를 절댓값으로 변환한 뒤 합산하여 평균을 구한다.\n",
    "# 특이값이 많은 경우에 주로 사용된다.\n",
    "# 값이 낮을수록 좋다.\n",
    "\n",
    "#장점\n",
    "#직관점임\n",
    "#정답 및 예측 값과 같은 단위를 가짐\n",
    "\n",
    "#단점\n",
    "#실제 정답보다 낮게 예측했는지, 높게 했는지를 파악하기 힘듦\n",
    "#스케일 의존적임(scal dependency): 모델마다 에류 크기가 동일해도 에러율은 동일하지 않음\n",
    "\n",
    "from sklearn.metrics import mean_absolute_error\n",
    "\n",
    "mae = mean_absolute_error(y_test,y_pred)\n",
    "mae"
   ]
  },
  {
   "cell_type": "code",
   "execution_count": 31,
   "metadata": {},
   "outputs": [
    {
     "data": {
      "text/plain": [
       "94.72383749107183"
      ]
     },
     "execution_count": 31,
     "metadata": {},
     "output_type": "execute_result"
    }
   ],
   "source": [
    "# MSE(Mean Squared Error) = 평균 제곱 오차\n",
    "# 실제 정답 값과 예측 값의 차이를 제곱한 뒤 평균을 구한다.\n",
    "# 값이 낮을수록 좋다.\n",
    "\n",
    "# 장점\n",
    "# 직관적임\n",
    "\n",
    "# 단점\n",
    "# 제곱하기 때문에 1미만의 에러는 작아지고, 그 이상의 에러는 커짐\n",
    "# 실제 정답보다 낮게 예측했는지, 높게 했는지를 파악하기 힘듦\n",
    "# 스케일 의존적임(scal dependency): 모델마다 에류 크기가 동일해도 에러율은 동일하지 않음\n",
    "\n",
    "from sklearn.metrics import mean_squared_error\n",
    "\n",
    "mse = mean_squared_error(y_test,y_pred)\n",
    "mse"
   ]
  },
  {
   "cell_type": "code",
   "execution_count": 32,
   "metadata": {},
   "outputs": [
    {
     "data": {
      "text/plain": [
       "9.732617196369732"
      ]
     },
     "execution_count": 32,
     "metadata": {},
     "output_type": "execute_result"
    }
   ],
   "source": [
    "# RMSE(Root Mean Squared Error) = 평균 제곱근 오차\n",
    "# MSE에 루트는 씌워서 에러를 제곱해서 생기는 값의 왜곡이 줄어든다.\n",
    "\n",
    "# 값이 낮을수록 좋다.\n",
    "\n",
    "# 장점\n",
    "# 직관적임\n",
    "\n",
    "# 단점\n",
    "# 제곱하기 때문에 1미만의 에러는 작아지고, 그 이상의 에러는 커짐\n",
    "# 실제 정답보다 낮게 예측했는지, 높게 했는지를 파악하기 힘듦\n",
    "# 스케일 의존적임(scal dependency): 모델마다 에류 크기가 동일해도 에러율은 동일하지 않음\n",
    "\n",
    "\n",
    "from sklearn.metrics import mean_squared_error\n",
    "import numpy as np\n",
    "\n",
    "rmse = np.sqrt(mean_squared_error(y_test,y_pred))\n",
    "rmse"
   ]
  },
  {
   "cell_type": "code",
   "execution_count": 33,
   "metadata": {},
   "outputs": [
    {
     "data": {
      "text/plain": [
       "0.9217139683119322"
      ]
     },
     "execution_count": 33,
     "metadata": {},
     "output_type": "execute_result"
    }
   ],
   "source": [
    "# R2 score = R squard\n",
    "# 다른 지표(MAE, MSE, RMSE)들은 모델마다 값이 다르기 때문에 절대 값만 보고 선능을 판단하기 어렵다.\n",
    "# R2 score는 상대적인 성능을 나타내기 비교가 쉽다.\n",
    "# 실제 값의 분산 대비 예측값의 분산 비율을 의미한다.\n",
    "# 1에 가까울 수록 좋다.\n",
    "\n",
    "from sklearn.metrics import r2_score\n",
    "\n",
    "r2 = r2_score(y_test,y_pred)\n",
    "r2"
   ]
  },
  {
   "cell_type": "code",
   "execution_count": 34,
   "metadata": {},
   "outputs": [
    {
     "name": "stdout",
     "output_type": "stream",
     "text": [
      "mae :  6.302625505752919\n",
      "mse :  94.72383749107183\n",
      "rmse :  9.732617196369732\n",
      "r2 :  0.9217139683119322\n"
     ]
    }
   ],
   "source": [
    "def regression_eval(y_test,y_pred):\n",
    "\n",
    "    from sklearn.metrics import mean_absolute_error,mean_squared_error,r2_score\n",
    "\n",
    "    mae = mean_absolute_error(y_test,y_pred)\n",
    "    mse = mean_squared_error(y_test,y_pred)\n",
    "    rmse = np.sqrt(mean_squared_error(y_test,y_pred))\n",
    "    r2 = r2_score(y_test,y_pred)\n",
    "\n",
    "    print(\"mae : \", mae)\n",
    "    print(\"mse : \", mse)\n",
    "    print(\"rmse : \", rmse)\n",
    "    print(\"r2 : \", r2)\n",
    "\n",
    "\n",
    "    return mae , mse , rmse , r2\n",
    "\n",
    "\n",
    "mae , mse , rmse , r2 = regression_eval(y_test,y_pred)"
   ]
  },
  {
   "cell_type": "code",
   "execution_count": 35,
   "metadata": {},
   "outputs": [
    {
     "data": {
      "text/plain": [
       "{'CV': '-',\n",
       " 'Mae': 6.302625505752919,\n",
       " 'Mse': 94.72383749107183,\n",
       " 'Rmse': 9.732617196369732,\n",
       " 'R2': 0.9217139683119322}"
      ]
     },
     "execution_count": 35,
     "metadata": {},
     "output_type": "execute_result"
    }
   ],
   "source": [
    "evals = {'CV':'-','Mae':mae,'Mse':mse,'Rmse':rmse,'R2':r2}\n",
    "evals"
   ]
  },
  {
   "attachments": {},
   "cell_type": "markdown",
   "metadata": {},
   "source": [
    "##### Feature Importances (피처중요도)"
   ]
  },
  {
   "cell_type": "code",
   "execution_count": 36,
   "metadata": {},
   "outputs": [
    {
     "data": {
      "text/plain": [
       "(array([0.6228331 , 0.03614418, 0.02954362, 0.04670678, 0.06893773,\n",
       "        0.1878666 , 0.00796799]),\n",
       " Index(['Year_prd', 'Year_model', 'Brand', 'Model', 'Mileage', 'CC', 'Fuel'], dtype='object'))"
      ]
     },
     "execution_count": 36,
     "metadata": {},
     "output_type": "execute_result"
    }
   ],
   "source": [
    "rfr.feature_importances_ , preprocess_X.columns"
   ]
  },
  {
   "cell_type": "code",
   "execution_count": 37,
   "metadata": {},
   "outputs": [
    {
     "data": {
      "text/html": [
       "<div>\n",
       "<style scoped>\n",
       "    .dataframe tbody tr th:only-of-type {\n",
       "        vertical-align: middle;\n",
       "    }\n",
       "\n",
       "    .dataframe tbody tr th {\n",
       "        vertical-align: top;\n",
       "    }\n",
       "\n",
       "    .dataframe thead th {\n",
       "        text-align: right;\n",
       "    }\n",
       "</style>\n",
       "<table border=\"1\" class=\"dataframe\">\n",
       "  <thead>\n",
       "    <tr style=\"text-align: right;\">\n",
       "      <th></th>\n",
       "      <th>Features</th>\n",
       "      <th>Importances</th>\n",
       "    </tr>\n",
       "  </thead>\n",
       "  <tbody>\n",
       "    <tr>\n",
       "      <th>0</th>\n",
       "      <td>Year_prd</td>\n",
       "      <td>0.622833</td>\n",
       "    </tr>\n",
       "    <tr>\n",
       "      <th>1</th>\n",
       "      <td>Year_model</td>\n",
       "      <td>0.036144</td>\n",
       "    </tr>\n",
       "    <tr>\n",
       "      <th>2</th>\n",
       "      <td>Brand</td>\n",
       "      <td>0.029544</td>\n",
       "    </tr>\n",
       "    <tr>\n",
       "      <th>3</th>\n",
       "      <td>Model</td>\n",
       "      <td>0.046707</td>\n",
       "    </tr>\n",
       "    <tr>\n",
       "      <th>4</th>\n",
       "      <td>Mileage</td>\n",
       "      <td>0.068938</td>\n",
       "    </tr>\n",
       "    <tr>\n",
       "      <th>5</th>\n",
       "      <td>CC</td>\n",
       "      <td>0.187867</td>\n",
       "    </tr>\n",
       "    <tr>\n",
       "      <th>6</th>\n",
       "      <td>Fuel</td>\n",
       "      <td>0.007968</td>\n",
       "    </tr>\n",
       "  </tbody>\n",
       "</table>\n",
       "</div>"
      ],
      "text/plain": [
       "     Features  Importances\n",
       "0    Year_prd     0.622833\n",
       "1  Year_model     0.036144\n",
       "2       Brand     0.029544\n",
       "3       Model     0.046707\n",
       "4     Mileage     0.068938\n",
       "5          CC     0.187867\n",
       "6        Fuel     0.007968"
      ]
     },
     "execution_count": 37,
     "metadata": {},
     "output_type": "execute_result"
    }
   ],
   "source": [
    "df_feature_importances = pd.DataFrame({'Features':preprocess_X.columns,'Importances':rfr.feature_importances_})\n",
    "df_feature_importances"
   ]
  },
  {
   "cell_type": "code",
   "execution_count": 38,
   "metadata": {},
   "outputs": [],
   "source": [
    "df_feature_importances = df_feature_importances.sort_values('Importances',ascending=False)"
   ]
  },
  {
   "cell_type": "code",
   "execution_count": 39,
   "metadata": {},
   "outputs": [
    {
     "data": {
      "text/plain": [
       "<Axes: xlabel='Importances', ylabel='Features'>"
      ]
     },
     "execution_count": 39,
     "metadata": {},
     "output_type": "execute_result"
    },
    {
     "data": {
      "image/png": "[encoded data removed]",
      "text/plain": [
       "<Figure size 640x480 with 1 Axes>"
      ]
     },
     "metadata": {},
     "output_type": "display_data"
    }
   ],
   "source": [
    "import seaborn as sns\n",
    "\n",
    "sns.barplot(x='Importances',y='Features',data=df_feature_importances)"
   ]
  },
  {
   "attachments": {},
   "cell_type": "markdown",
   "metadata": {},
   "source": [
    "##### K-FOLD 교차 검증 학습 "
   ]
  },
  {
   "cell_type": "code",
   "execution_count": 40,
   "metadata": {},
   "outputs": [],
   "source": [
    "import pandas as pd\n",
    "\n",
    "preprocess_X = pd.read_csv('preprocessed_data//preprocess_X_data.csv',index_col=0)\n",
    "preprocess_Y = pd.read_csv('preprocessed_data//preprocess_Y_data.csv',index_col=0) "
   ]
  },
  {
   "cell_type": "code",
   "execution_count": 41,
   "metadata": {},
   "outputs": [
    {
     "name": "stdout",
     "output_type": "stream",
     "text": [
      "1번째 fold\n",
      "mae :  6.5132601773686085\n",
      "mse :  106.08017124167914\n",
      "rmse :  10.299522864758305\n",
      "r2 :  0.911600897512768\n",
      "2번째 fold\n",
      "mae :  6.302220798527286\n",
      "mse :  97.05810740225607\n",
      "rmse :  9.851807316541269\n",
      "r2 :  0.9190894411833822\n",
      "3번째 fold\n",
      "mae :  6.40409976358244\n",
      "mse :  96.75614399347064\n",
      "rmse :  9.836470098234969\n",
      "r2 :  0.9195144616203634\n",
      "4번째 fold\n",
      "mae :  6.25542309319939\n",
      "mse :  93.31930180322897\n",
      "rmse :  9.660191602821808\n",
      "r2 :  0.9205644209892373\n",
      "5번째 fold\n",
      "mae :  6.382265405512802\n",
      "mse :  97.44280393636227\n",
      "rmse :  9.87131216892477\n",
      "r2 :  0.9176128331309905\n",
      "평균  Mae  :  6.371453847638105\n",
      "평균  Mse  :  98.13130567539942\n",
      "평균  Rmse  :  9.903860810256225\n",
      "평균  R2  :  0.9176764108873483\n"
     ]
    }
   ],
   "source": [
    "from sklearn.model_selection import KFold\n",
    "\n",
    "def exec_kfold(preprocess_X,preprocess_Y,folds=5):\n",
    "\n",
    "    from sklearn.ensemble import RandomForestRegressor\n",
    "    import numpy as np\n",
    "\n",
    "    rfr = RandomForestRegressor(random_state=777)\n",
    "\n",
    "    kfold = KFold(n_splits=folds)\n",
    "    evals = dict({'Mae':[],'Mse':[],'Rmse':[],'R2':[]})\n",
    "    mean_evals = dict({'Mae':[],'Mse':[],'Rmse':[],'R2':[]})\n",
    "    \n",
    "    # KFold 교차 검증 수행\n",
    "    for iter_count , (train_index, test_index) in enumerate(kfold.split(preprocess_X)):\n",
    "\n",
    "        print(str(iter_count+1) + \"번째 fold\")\n",
    "        # X_titanic_df 데이터에서 교차 검증별로 학습과 검증 데이터를 가리키는 index 생성\n",
    "        X_train, X_test = preprocess_X.values[train_index], preprocess_X.values[test_index]\n",
    "        y_train, y_test = preprocess_Y.values[train_index], preprocess_Y.values[test_index]\n",
    "        \n",
    "        # 회귀 모델 학습, 예측 \n",
    "        rfr.fit(X_train, y_train) \n",
    "        y_pred = rfr.predict(X_test)\n",
    "\n",
    "        # mae, mse, rmse, r2 \n",
    "        mae , mse , rmse , r2 = regression_eval(y_test,y_pred)\n",
    "\n",
    "        evals['Mae'].append(mae)\n",
    "        evals['Mse'].append(mse)\n",
    "        evals['Rmse'].append(rmse)\n",
    "        evals['R2'].append(r2)\n",
    "\n",
    "    mean_evals['CV'] = 'KFOLD = ' + str(folds) +'(mean)'\n",
    "    for key in evals.keys():\n",
    "        print(\"평균 \",key, \" : \", np.mean(evals[key]))\n",
    "        # mean_evals['Mean_'+key] = np.mean(evals[key])\n",
    "        mean_evals[key] = np.mean(evals[key])\n",
    "\n",
    "    return mean_evals\n",
    "\n",
    "# exec_kfold 호출\n",
    "mean_evals = exec_kfold(preprocess_X,preprocess_Y,folds=5) "
   ]
  },
  {
   "attachments": {},
   "cell_type": "markdown",
   "metadata": {},
   "source": [
    "##### No Cross Validation vs Cross Validation 평가 지표 비교"
   ]
  },
  {
   "cell_type": "code",
   "execution_count": 42,
   "metadata": {},
   "outputs": [
    {
     "data": {
      "text/html": [
       "<div>\n",
       "<style scoped>\n",
       "    .dataframe tbody tr th:only-of-type {\n",
       "        vertical-align: middle;\n",
       "    }\n",
       "\n",
       "    .dataframe tbody tr th {\n",
       "        vertical-align: top;\n",
       "    }\n",
       "\n",
       "    .dataframe thead th {\n",
       "        text-align: right;\n",
       "    }\n",
       "</style>\n",
       "<table border=\"1\" class=\"dataframe\">\n",
       "  <thead>\n",
       "    <tr style=\"text-align: right;\">\n",
       "      <th></th>\n",
       "      <th>CV</th>\n",
       "      <th>Mae</th>\n",
       "      <th>Mse</th>\n",
       "      <th>Rmse</th>\n",
       "      <th>R2</th>\n",
       "    </tr>\n",
       "  </thead>\n",
       "  <tbody>\n",
       "    <tr>\n",
       "      <th>0</th>\n",
       "      <td>-</td>\n",
       "      <td>6.302626</td>\n",
       "      <td>94.723837</td>\n",
       "      <td>9.732617</td>\n",
       "      <td>0.921714</td>\n",
       "    </tr>\n",
       "  </tbody>\n",
       "</table>\n",
       "</div>"
      ],
      "text/plain": [
       "  CV       Mae        Mse      Rmse        R2\n",
       "0  -  6.302626  94.723837  9.732617  0.921714"
      ]
     },
     "execution_count": 42,
     "metadata": {},
     "output_type": "execute_result"
    }
   ],
   "source": [
    "import pandas as pd\n",
    "\n",
    "df_evals = pd.DataFrame(evals,index=[0])\n",
    "df_evals"
   ]
  },
  {
   "cell_type": "code",
   "execution_count": 43,
   "metadata": {},
   "outputs": [
    {
     "data": {
      "text/html": [
       "<div>\n",
       "<style scoped>\n",
       "    .dataframe tbody tr th:only-of-type {\n",
       "        vertical-align: middle;\n",
       "    }\n",
       "\n",
       "    .dataframe tbody tr th {\n",
       "        vertical-align: top;\n",
       "    }\n",
       "\n",
       "    .dataframe thead th {\n",
       "        text-align: right;\n",
       "    }\n",
       "</style>\n",
       "<table border=\"1\" class=\"dataframe\">\n",
       "  <thead>\n",
       "    <tr style=\"text-align: right;\">\n",
       "      <th></th>\n",
       "      <th>CV</th>\n",
       "      <th>Mae</th>\n",
       "      <th>Mse</th>\n",
       "      <th>Rmse</th>\n",
       "      <th>R2</th>\n",
       "    </tr>\n",
       "  </thead>\n",
       "  <tbody>\n",
       "    <tr>\n",
       "      <th>0</th>\n",
       "      <td>KFOLD = 5(mean)</td>\n",
       "      <td>6.371454</td>\n",
       "      <td>98.131306</td>\n",
       "      <td>9.903861</td>\n",
       "      <td>0.917676</td>\n",
       "    </tr>\n",
       "  </tbody>\n",
       "</table>\n",
       "</div>"
      ],
      "text/plain": [
       "                CV       Mae        Mse      Rmse        R2\n",
       "0  KFOLD = 5(mean)  6.371454  98.131306  9.903861  0.917676"
      ]
     },
     "execution_count": 43,
     "metadata": {},
     "output_type": "execute_result"
    }
   ],
   "source": [
    "df_mean_evals= pd.DataFrame(mean_evals,index=[0])\n",
    "df_mean_evals = df_mean_evals[['CV','Mae','Mse','Rmse','R2']]\n",
    "df_mean_evals"
   ]
  },
  {
   "attachments": {},
   "cell_type": "markdown",
   "metadata": {},
   "source": [
    "##### GridSearchcv 하이퍼 파라미터 조정"
   ]
  },
  {
   "attachments": {
    "image.png": {
     "image/png": "[encoded data removed]"
    }
   },
   "cell_type": "markdown",
   "metadata": {},
   "source": [
    "![image.png](attachment:image.png)"
   ]
  },
  {
   "cell_type": "code",
   "execution_count": 44,
   "metadata": {},
   "outputs": [],
   "source": [
    "# params_grid = { 'n_estimators' : [100,200],\n",
    "#            'max_depth' : [6, 8, 10, 12],\n",
    "#            'min_samples_leaf' : [8, 12, 18],\n",
    "#            'min_samples_split' : [8, 16, 20]\n",
    "#             }"
   ]
  },
  {
   "cell_type": "code",
   "execution_count": 26,
   "metadata": {},
   "outputs": [
    {
     "name": "stdout",
     "output_type": "stream",
     "text": [
      "----------- scoring type :  neg_mean_absolute_error  ----------- \n",
      "GridSearchCV 최적 하이퍼 파라미터 : {'max_depth': 12, 'min_samples_leaf': 8, 'min_samples_split': 8, 'n_estimators': 200}\n",
      "GridSearchCV 최고 정확도: -6.8124\n",
      "테스트 세트에서의 RandomForestRegressor mae :  6.598255562313608\n",
      "----------- scoring type :  neg_mean_squared_error  ----------- \n",
      "GridSearchCV 최적 하이퍼 파라미터 : {'max_depth': 12, 'min_samples_leaf': 8, 'min_samples_split': 8, 'n_estimators': 200}\n",
      "GridSearchCV 최고 정확도: -108.2631\n",
      "테스트 세트에서의 RandomForestRegressor mse :  98.68880964534686\n",
      "----------- scoring type :  neg_root_mean_squared_error  ----------- \n",
      "GridSearchCV 최적 하이퍼 파라미터 : {'max_depth': 12, 'min_samples_leaf': 8, 'min_samples_split': 8, 'n_estimators': 200}\n",
      "GridSearchCV 최고 정확도: -10.4039\n",
      "테스트 세트에서의 RandomForestRegressor rmse :  9.934224159205733\n",
      "----------- scoring type :  r2  ----------- \n",
      "GridSearchCV 최적 하이퍼 파라미터 : {'max_depth': 12, 'min_samples_leaf': 8, 'min_samples_split': 8, 'n_estimators': 200}\n",
      "GridSearchCV 최고 정확도: 0.9087\n",
      "테스트 세트에서의 RandomForestRegressor r2 :  0.9186495334265475\n",
      "GridSearchcv 소요시간 :  1205.3768599033356\n"
     ]
    }
   ],
   "source": [
    "from sklearn.model_selection import GridSearchCV\n",
    "from sklearn.ensemble import RandomForestRegressor\n",
    "from sklearn.model_selection import train_test_split\n",
    "from sklearn.metrics import mean_absolute_error,mean_squared_error,r2_score\n",
    "import numpy as np\n",
    "import time\n",
    "import warnings\n",
    "\n",
    "\n",
    "warnings.filterwarnings(action='ignore')\n",
    "\n",
    "rfr = RandomForestRegressor(random_state=777)\n",
    "\n",
    "preprocess_X = pd.read_csv('preprocessed_data//preprocess_X_data.csv',index_col=0)\n",
    "preprocess_Y = pd.read_csv('preprocessed_data//preprocess_Y_data.csv',index_col=0) \n",
    "\n",
    "X_train, X_test , y_train , y_test = train_test_split(preprocess_X,preprocess_Y,test_size=0.2,random_state=777)\n",
    "\n",
    "scorings = ['neg_mean_absolute_error','neg_mean_squared_error','neg_root_mean_squared_error','r2']\n",
    "# param_grid = { \n",
    "#         \"n_estimators\"      : [5,10,15,20,25,30],\n",
    "#         \"max_features\"      : [\"auto\", \"sqrt\", \"log2\"],\n",
    "#         \"max_depth\" : [1,2,3,4],\n",
    "#         'max_leaf_nodes': [None,2,4,6,8], \n",
    "#         \"min_samples_split\" : [2,4,6,8],\n",
    "#         'min_samples_leaf':[2,4,6,8], \n",
    "#         # \"bootstrap\": [True, False],\n",
    "#         }\n",
    "\n",
    "params_grid = { 'n_estimators' : [100,200],\n",
    "           'max_depth' : [6, 8, 10, 12],\n",
    "           'min_samples_leaf' : [8, 12, 18],\n",
    "           'min_samples_split' : [8, 16, 20]\n",
    "            }\n",
    "\n",
    "start = time.time()\n",
    "\n",
    "for scoring in scorings:\n",
    "\n",
    "    print(\"----------- scoring type : \", scoring,\" ----------- \")\n",
    "\n",
    "    # n_jobs = -1 모든 CPU 코어 사용\n",
    "    grid_rfr = GridSearchCV(rfr, \n",
    "                            param_grid=params_grid , \n",
    "                            scoring=scoring, \n",
    "                            cv=5,\n",
    "                            n_jobs=-1)\n",
    "    \n",
    "    grid_rfr.fit(X_train , y_train)\n",
    "\n",
    "    print('GridSearchCV 최적 하이퍼 파라미터 :',grid_rfr.best_params_)\n",
    "    print('GridSearchCV 최고 정확도: {0:.4f}'.format(grid_rfr.best_score_))\n",
    "    best_dclf = grid_rfr.best_estimator_\n",
    "\n",
    "    # GridSearchCV의 최적 하이퍼 파라미터로 학습된 Estimator로 예측 및 평가 수행. \n",
    "    y_pred = best_dclf.predict(X_test)\n",
    "\n",
    "    if scoring == 'neg_mean_absolute_error':\n",
    "        mae = mean_absolute_error(y_test , y_pred)\n",
    "        print('테스트 세트에서의 RandomForestRegressor mae : ', mae)\n",
    "    elif scoring == 'neg_mean_squared_error':\n",
    "        mse = mean_squared_error(y_test , y_pred)\n",
    "        print('테스트 세트에서의 RandomForestRegressor mse : ', mse)\n",
    "    elif scoring == 'neg_root_mean_squared_error':\n",
    "        rmse = np.sqrt(mean_squared_error(y_test , y_pred))\n",
    "        print('테스트 세트에서의 RandomForestRegressor rmse : ', rmse)\n",
    "    else:\n",
    "        r2 = r2_score(y_test , y_pred)\n",
    "        print('테스트 세트에서의 RandomForestRegressor r2 : ', r2)\n",
    "\n",
    "print(\"GridSearchcv 소요시간 : \", time.time()-start)"
   ]
  },
  {
   "cell_type": "code",
   "execution_count": null,
   "metadata": {},
   "outputs": [],
   "source": [
    "# params_grid = { 'n_estimators' : [200,300,400],\n",
    "#            'max_depth' : [6, 8, 10, 12],\n",
    "#            'min_samples_leaf' : [8, 12, 18],\n",
    "#            'min_samples_split' : [8, 16, 20]\n",
    "#             }"
   ]
  },
  {
   "cell_type": "code",
   "execution_count": null,
   "metadata": {},
   "outputs": [],
   "source": [
    "from sklearn.model_selection import GridSearchCV\n",
    "from sklearn.ensemble import RandomForestRegressor\n",
    "from sklearn.model_selection import train_test_split\n",
    "from sklearn.metrics import mean_absolute_error,mean_squared_error,r2_score\n",
    "import numpy as np\n",
    "import time\n",
    "import warnings\n",
    "\n",
    "\n",
    "warnings.filterwarnings(action='ignore')\n",
    "\n",
    "rfr = RandomForestRegressor(random_state=777)\n",
    "\n",
    "preprocess_X = pd.read_csv('preprocessed_data//preprocess_X_data.csv',index_col=0)\n",
    "preprocess_Y = pd.read_csv('preprocessed_data//preprocess_Y_data.csv',index_col=0) \n",
    "\n",
    "X_train, X_test , y_train , y_test = train_test_split(preprocess_X,preprocess_Y,test_size=0.2,random_state=777)\n",
    "\n",
    "scorings = ['neg_mean_absolute_error','neg_mean_squared_error','neg_root_mean_squared_error','r2']\n",
    "# param_grid = { \n",
    "#         \"n_estimators\"      : [5,10,15,20,25,30],\n",
    "#         \"max_features\"      : [\"auto\", \"sqrt\", \"log2\"],\n",
    "#         \"max_depth\" : [1,2,3,4],\n",
    "#         'max_leaf_nodes': [None,2,4,6,8], \n",
    "#         \"min_samples_split\" : [2,4,6,8],\n",
    "#         'min_samples_leaf':[2,4,6,8], \n",
    "#         # \"bootstrap\": [True, False],\n",
    "#         }\n",
    "\n",
    "params_grid = { 'n_estimators' : [200,300,400],\n",
    "           'max_depth' : [6, 8, 10, 12],\n",
    "           'min_samples_leaf' : [8, 12, 18],\n",
    "           'min_samples_split' : [8, 16, 20]\n",
    "            }\n",
    "\n",
    "start = time.time()\n",
    "\n",
    "for scoring in scorings:\n",
    "\n",
    "    print(\"----------- scoring type : \", scoring,\" ----------- \")\n",
    "\n",
    "    # n_jobs = -1 모든 CPU 코어 사용\n",
    "    grid_rfr = GridSearchCV(rfr, \n",
    "                            param_grid=params_grid , \n",
    "                            scoring=scoring, \n",
    "                            cv=5,\n",
    "                            n_jobs=-1)\n",
    "    \n",
    "    grid_rfr.fit(X_train , y_train)\n",
    "\n",
    "    print('GridSearchCV 최적 하이퍼 파라미터 :',grid_rfr.best_params_)\n",
    "    print('GridSearchCV 최고 정확도: {0:.4f}'.format(grid_rfr.best_score_))\n",
    "    best_dclf = grid_rfr.best_estimator_\n",
    "\n",
    "    # GridSearchCV의 최적 하이퍼 파라미터로 학습된 Estimator로 예측 및 평가 수행. \n",
    "    y_pred = best_dclf.predict(X_test)\n",
    "\n",
    "    if scoring == 'neg_mean_absolute_error':\n",
    "        mae = mean_absolute_error(y_test , y_pred)\n",
    "        print('테스트 세트에서의 RandomForestRegressor mae : ', mae)\n",
    "    elif scoring == 'neg_mean_squared_error':\n",
    "        mse = mean_squared_error(y_test , y_pred)\n",
    "        print('테스트 세트에서의 RandomForestRegressor mse : ', mse)\n",
    "    elif scoring == 'neg_root_mean_squared_error':\n",
    "        rmse = np.sqrt(mean_squared_error(y_test , y_pred))\n",
    "        print('테스트 세트에서의 RandomForestRegressor rmse : ', rmse)\n",
    "    else:\n",
    "        r2 = r2_score(y_test , y_pred)\n",
    "        print('테스트 세트에서의 RandomForestRegressor r2 : ', r2)\n",
    "\n",
    "print(\"GridSearchcv 소요시간 : \", time.time()-start)"
   ]
  },
  {
   "cell_type": "code",
   "execution_count": null,
   "metadata": {},
   "outputs": [],
   "source": [
    "from sklearn.model_selection import GridSearchCV\n",
    "from sklearn.ensemble import RandomForestRegressor\n",
    "from sklearn.model_selection import train_test_split\n",
    "from sklearn.metrics import mean_absolute_error,mean_squared_error,r2_score\n",
    "import numpy as np\n",
    "import time\n",
    "import warnings\n",
    "\n",
    "\n",
    "warnings.filterwarnings(action='ignore')\n",
    "\n",
    "rfr = RandomForestRegressor(random_state=777)\n",
    "\n",
    "preprocess_X = pd.read_csv('preprocessed_data//preprocess_X_data.csv',index_col=0)\n",
    "preprocess_Y = pd.read_csv('preprocessed_data//preprocess_Y_data.csv',index_col=0) \n",
    "\n",
    "X_train, X_test , y_train , y_test = train_test_split(preprocess_X,preprocess_Y,test_size=0.2,random_state=777)\n",
    "\n",
    "scorings = ['neg_mean_absolute_error','neg_mean_squared_error','neg_root_mean_squared_error','r2']\n",
    "# param_grid = { \n",
    "#         \"n_estimators\"      : [5,10,15,20,25,30],\n",
    "#         \"max_features\"      : [\"auto\", \"sqrt\", \"log2\"],\n",
    "#         \"max_depth\" : [1,2,3,4],\n",
    "#         'max_leaf_nodes': [None,2,4,6,8], \n",
    "#         \"min_samples_split\" : [2,4,6,8],\n",
    "#         'min_samples_leaf':[2,4,6,8], \n",
    "#         # \"bootstrap\": [True, False],\n",
    "#         }\n",
    "\n",
    "params_grid = { 'n_estimators' : [600,800,1000],\n",
    "           'max_depth' : [6, 8, 10, 12],\n",
    "           'min_samples_leaf' : [4,8,12,16],\n",
    "           'min_samples_split' : [4,8,12,16]\n",
    "            }\n",
    "\n",
    "start = time.time()\n",
    "\n",
    "for scoring in scorings:\n",
    "\n",
    "    print(\"----------- scoring type : \", scoring,\" ----------- \")\n",
    "\n",
    "    # n_jobs = -1 모든 CPU 코어 사용\n",
    "    grid_rfr = GridSearchCV(rfr, \n",
    "                            param_grid=params_grid , \n",
    "                            scoring=scoring, \n",
    "                            cv=5,\n",
    "                            n_jobs=-1)\n",
    "    \n",
    "    grid_rfr.fit(X_train , y_train)\n",
    "\n",
    "    print('GridSearchCV 최적 하이퍼 파라미터 :',grid_rfr.best_params_)\n",
    "    print('GridSearchCV 최고 정확도: {0:.4f}'.format(grid_rfr.best_score_))\n",
    "    best_dclf = grid_rfr.best_estimator_\n",
    "\n",
    "    # GridSearchCV의 최적 하이퍼 파라미터로 학습된 Estimator로 예측 및 평가 수행. \n",
    "    y_pred = best_dclf.predict(X_test)\n",
    "\n",
    "    if scoring == 'neg_mean_absolute_error':\n",
    "        mae = mean_absolute_error(y_test , y_pred)\n",
    "        print('테스트 세트에서의 RandomForestRegressor mae : ', mae)\n",
    "    elif scoring == 'neg_mean_squared_error':\n",
    "        mse = mean_squared_error(y_test , y_pred)\n",
    "        print('테스트 세트에서의 RandomForestRegressor mse : ', mse)\n",
    "    elif scoring == 'neg_root_mean_squared_error':\n",
    "        rmse = np.sqrt(mean_squared_error(y_test , y_pred))\n",
    "        print('테스트 세트에서의 RandomForestRegressor rmse : ', rmse)\n",
    "    else:\n",
    "        r2 = r2_score(y_test , y_pred)\n",
    "        print('테스트 세트에서의 RandomForestRegressor r2 : ', r2)\n",
    "\n",
    "print(\"GridSearchcv 소요시간 : \", time.time()-start)"
   ]
  }
 ],
 "metadata": {
  "kernelspec": {
   "display_name": "py",
   "language": "python",
   "name": "python3"
  },
  "language_info": {
   "codemirror_mode": {
    "name": "ipython",
    "version": 3
   },
   "file_extension": ".py",
   "mimetype": "text/x-python",
   "name": "python",
   "nbconvert_exporter": "python",
   "pygments_lexer": "ipython3",
   "version": "3.11.3"
  },
  "orig_nbformat": 4
 },
 "nbformat": 4,
 "nbformat_minor": 2
}
