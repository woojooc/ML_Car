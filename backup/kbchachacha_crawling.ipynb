{
 "cells": [
  {
   "attachments": {},
   "cell_type": "markdown",
   "metadata": {},
   "source": [
    "### KB차차차 크롤링"
   ]
  },
  {
   "cell_type": "code",
   "execution_count": null,
   "metadata": {},
   "outputs": [],
   "source": [
    "!pip install jupyter notebook\n",
    "!pip install selenium==3.141.0"
   ]
  },
  {
   "cell_type": "code",
   "execution_count": null,
   "metadata": {},
   "outputs": [],
   "source": [
    "# chrome://version/\n",
    "# 114.0.5735.110 (공식 빌드) (64비트) (cohort: Stable) "
   ]
  },
  {
   "cell_type": "code",
   "execution_count": null,
   "metadata": {},
   "outputs": [],
   "source": [
    "!pip install webdriver-manager"
   ]
  },
  {
   "cell_type": "code",
   "execution_count": null,
   "metadata": {},
   "outputs": [],
   "source": [
    "!pwd"
   ]
  },
  {
   "cell_type": "code",
   "execution_count": 4,
   "metadata": {},
   "outputs": [
    {
     "ename": "ValueError",
     "evalue": "Timeout value connect was <object object at 0x00000267CD208B90>, but it must be an int, float or None.",
     "output_type": "error",
     "traceback": [
      "\u001b[1;31m---------------------------------------------------------------------------\u001b[0m",
      "\u001b[1;31mValueError\u001b[0m                                Traceback (most recent call last)",
      "Cell \u001b[1;32mIn[4], line 5\u001b[0m\n\u001b[0;32m      2\u001b[0m \u001b[39mfrom\u001b[39;00m \u001b[39mselenium\u001b[39;00m\u001b[39m.\u001b[39;00m\u001b[39mwebdriver\u001b[39;00m\u001b[39m.\u001b[39;00m\u001b[39mcommon\u001b[39;00m\u001b[39m.\u001b[39;00m\u001b[39mkeys\u001b[39;00m \u001b[39mimport\u001b[39;00m Keys\n\u001b[0;32m      3\u001b[0m \u001b[39mfrom\u001b[39;00m \u001b[39mselenium\u001b[39;00m\u001b[39m.\u001b[39;00m\u001b[39mwebdriver\u001b[39;00m\u001b[39m.\u001b[39;00m\u001b[39mcommon\u001b[39;00m\u001b[39m.\u001b[39;00m\u001b[39mby\u001b[39;00m \u001b[39mimport\u001b[39;00m By\n\u001b[1;32m----> 5\u001b[0m driver \u001b[39m=\u001b[39m webdriver\u001b[39m.\u001b[39;49mChrome(\u001b[39m'\u001b[39;49m\u001b[39mchromedriver\u001b[39;49m\u001b[39m'\u001b[39;49m)\n\u001b[0;32m      6\u001b[0m driver\u001b[39m.\u001b[39mget(\u001b[39m'\u001b[39m\u001b[39mhttps://www.kbchachacha.com/public/search/main.kbc#!?_menu=buy&page=1&sort=-orderDate&makerCode=101&classCode=1109&carCode=2729\u001b[39m\u001b[39m'\u001b[39m)\n\u001b[0;32m      7\u001b[0m driver\u001b[39m.\u001b[39mfind_element_by_xpath(\u001b[39m'\u001b[39m\u001b[39m//*[@id=\u001b[39m\u001b[39m\"\u001b[39m\u001b[39mcontent\u001b[39m\u001b[39m\"\u001b[39m\u001b[39m]/div[2]/div/div[2]/div[2]/div[3]/div[4]/div[2]/div[1]/div[2]/div/a\u001b[39m\u001b[39m'\u001b[39m)\u001b[39m.\u001b[39mclick()\n",
      "File \u001b[1;32mc:\\backend_study\\META_ML_PJT\\.conda\\lib\\site-packages\\selenium\\webdriver\\chrome\\webdriver.py:76\u001b[0m, in \u001b[0;36mWebDriver.__init__\u001b[1;34m(self, executable_path, port, options, service_args, desired_capabilities, service_log_path, chrome_options, keep_alive)\u001b[0m\n\u001b[0;32m     73\u001b[0m \u001b[39mself\u001b[39m\u001b[39m.\u001b[39mservice\u001b[39m.\u001b[39mstart()\n\u001b[0;32m     75\u001b[0m \u001b[39mtry\u001b[39;00m:\n\u001b[1;32m---> 76\u001b[0m     RemoteWebDriver\u001b[39m.\u001b[39;49m\u001b[39m__init__\u001b[39;49m(\n\u001b[0;32m     77\u001b[0m         \u001b[39mself\u001b[39;49m,\n\u001b[0;32m     78\u001b[0m         command_executor\u001b[39m=\u001b[39;49mChromeRemoteConnection(\n\u001b[0;32m     79\u001b[0m             remote_server_addr\u001b[39m=\u001b[39;49m\u001b[39mself\u001b[39;49m\u001b[39m.\u001b[39;49mservice\u001b[39m.\u001b[39;49mservice_url,\n\u001b[0;32m     80\u001b[0m             keep_alive\u001b[39m=\u001b[39;49mkeep_alive),\n\u001b[0;32m     81\u001b[0m         desired_capabilities\u001b[39m=\u001b[39;49mdesired_capabilities)\n\u001b[0;32m     82\u001b[0m \u001b[39mexcept\u001b[39;00m \u001b[39mException\u001b[39;00m:\n\u001b[0;32m     83\u001b[0m     \u001b[39mself\u001b[39m\u001b[39m.\u001b[39mquit()\n",
      "File \u001b[1;32mc:\\backend_study\\META_ML_PJT\\.conda\\lib\\site-packages\\selenium\\webdriver\\remote\\webdriver.py:157\u001b[0m, in \u001b[0;36mWebDriver.__init__\u001b[1;34m(self, command_executor, desired_capabilities, browser_profile, proxy, keep_alive, file_detector, options)\u001b[0m\n\u001b[0;32m    154\u001b[0m \u001b[39mif\u001b[39;00m browser_profile \u001b[39mis\u001b[39;00m \u001b[39mnot\u001b[39;00m \u001b[39mNone\u001b[39;00m:\n\u001b[0;32m    155\u001b[0m     warnings\u001b[39m.\u001b[39mwarn(\u001b[39m\"\u001b[39m\u001b[39mPlease use FirefoxOptions to set browser profile\u001b[39m\u001b[39m\"\u001b[39m,\n\u001b[0;32m    156\u001b[0m                   \u001b[39mDeprecationWarning\u001b[39;00m, stacklevel\u001b[39m=\u001b[39m\u001b[39m2\u001b[39m)\n\u001b[1;32m--> 157\u001b[0m \u001b[39mself\u001b[39;49m\u001b[39m.\u001b[39;49mstart_session(capabilities, browser_profile)\n\u001b[0;32m    158\u001b[0m \u001b[39mself\u001b[39m\u001b[39m.\u001b[39m_switch_to \u001b[39m=\u001b[39m SwitchTo(\u001b[39mself\u001b[39m)\n\u001b[0;32m    159\u001b[0m \u001b[39mself\u001b[39m\u001b[39m.\u001b[39m_mobile \u001b[39m=\u001b[39m Mobile(\u001b[39mself\u001b[39m)\n",
      "File \u001b[1;32mc:\\backend_study\\META_ML_PJT\\.conda\\lib\\site-packages\\selenium\\webdriver\\remote\\webdriver.py:252\u001b[0m, in \u001b[0;36mWebDriver.start_session\u001b[1;34m(self, capabilities, browser_profile)\u001b[0m\n\u001b[0;32m    249\u001b[0m w3c_caps \u001b[39m=\u001b[39m _make_w3c_caps(capabilities)\n\u001b[0;32m    250\u001b[0m parameters \u001b[39m=\u001b[39m {\u001b[39m\"\u001b[39m\u001b[39mcapabilities\u001b[39m\u001b[39m\"\u001b[39m: w3c_caps,\n\u001b[0;32m    251\u001b[0m               \u001b[39m\"\u001b[39m\u001b[39mdesiredCapabilities\u001b[39m\u001b[39m\"\u001b[39m: capabilities}\n\u001b[1;32m--> 252\u001b[0m response \u001b[39m=\u001b[39m \u001b[39mself\u001b[39;49m\u001b[39m.\u001b[39;49mexecute(Command\u001b[39m.\u001b[39;49mNEW_SESSION, parameters)\n\u001b[0;32m    253\u001b[0m \u001b[39mif\u001b[39;00m \u001b[39m'\u001b[39m\u001b[39msessionId\u001b[39m\u001b[39m'\u001b[39m \u001b[39mnot\u001b[39;00m \u001b[39min\u001b[39;00m response:\n\u001b[0;32m    254\u001b[0m     response \u001b[39m=\u001b[39m response[\u001b[39m'\u001b[39m\u001b[39mvalue\u001b[39m\u001b[39m'\u001b[39m]\n",
      "File \u001b[1;32mc:\\backend_study\\META_ML_PJT\\.conda\\lib\\site-packages\\selenium\\webdriver\\remote\\webdriver.py:319\u001b[0m, in \u001b[0;36mWebDriver.execute\u001b[1;34m(self, driver_command, params)\u001b[0m\n\u001b[0;32m    316\u001b[0m         params[\u001b[39m'\u001b[39m\u001b[39msessionId\u001b[39m\u001b[39m'\u001b[39m] \u001b[39m=\u001b[39m \u001b[39mself\u001b[39m\u001b[39m.\u001b[39msession_id\n\u001b[0;32m    318\u001b[0m params \u001b[39m=\u001b[39m \u001b[39mself\u001b[39m\u001b[39m.\u001b[39m_wrap_value(params)\n\u001b[1;32m--> 319\u001b[0m response \u001b[39m=\u001b[39m \u001b[39mself\u001b[39;49m\u001b[39m.\u001b[39;49mcommand_executor\u001b[39m.\u001b[39;49mexecute(driver_command, params)\n\u001b[0;32m    320\u001b[0m \u001b[39mif\u001b[39;00m response:\n\u001b[0;32m    321\u001b[0m     \u001b[39mself\u001b[39m\u001b[39m.\u001b[39merror_handler\u001b[39m.\u001b[39mcheck_response(response)\n",
      "File \u001b[1;32mc:\\backend_study\\META_ML_PJT\\.conda\\lib\\site-packages\\selenium\\webdriver\\remote\\remote_connection.py:374\u001b[0m, in \u001b[0;36mRemoteConnection.execute\u001b[1;34m(self, command, params)\u001b[0m\n\u001b[0;32m    372\u001b[0m data \u001b[39m=\u001b[39m utils\u001b[39m.\u001b[39mdump_json(params)\n\u001b[0;32m    373\u001b[0m url \u001b[39m=\u001b[39m \u001b[39m'\u001b[39m\u001b[39m%s\u001b[39;00m\u001b[39m%s\u001b[39;00m\u001b[39m'\u001b[39m \u001b[39m%\u001b[39m (\u001b[39mself\u001b[39m\u001b[39m.\u001b[39m_url, path)\n\u001b[1;32m--> 374\u001b[0m \u001b[39mreturn\u001b[39;00m \u001b[39mself\u001b[39;49m\u001b[39m.\u001b[39;49m_request(command_info[\u001b[39m0\u001b[39;49m], url, body\u001b[39m=\u001b[39;49mdata)\n",
      "File \u001b[1;32mc:\\backend_study\\META_ML_PJT\\.conda\\lib\\site-packages\\selenium\\webdriver\\remote\\remote_connection.py:397\u001b[0m, in \u001b[0;36mRemoteConnection._request\u001b[1;34m(self, method, url, body)\u001b[0m\n\u001b[0;32m    394\u001b[0m     body \u001b[39m=\u001b[39m \u001b[39mNone\u001b[39;00m\n\u001b[0;32m    396\u001b[0m \u001b[39mif\u001b[39;00m \u001b[39mself\u001b[39m\u001b[39m.\u001b[39mkeep_alive:\n\u001b[1;32m--> 397\u001b[0m     resp \u001b[39m=\u001b[39m \u001b[39mself\u001b[39;49m\u001b[39m.\u001b[39;49m_conn\u001b[39m.\u001b[39;49mrequest(method, url, body\u001b[39m=\u001b[39;49mbody, headers\u001b[39m=\u001b[39;49mheaders)\n\u001b[0;32m    399\u001b[0m     statuscode \u001b[39m=\u001b[39m resp\u001b[39m.\u001b[39mstatus\n\u001b[0;32m    400\u001b[0m \u001b[39melse\u001b[39;00m:\n",
      "File \u001b[1;32mc:\\backend_study\\META_ML_PJT\\.conda\\lib\\site-packages\\urllib3\\_request_methods.py:118\u001b[0m, in \u001b[0;36mRequestMethods.request\u001b[1;34m(self, method, url, body, fields, headers, json, **urlopen_kw)\u001b[0m\n\u001b[0;32m    110\u001b[0m     \u001b[39mreturn\u001b[39;00m \u001b[39mself\u001b[39m\u001b[39m.\u001b[39mrequest_encode_url(\n\u001b[0;32m    111\u001b[0m         method,\n\u001b[0;32m    112\u001b[0m         url,\n\u001b[1;32m   (...)\u001b[0m\n\u001b[0;32m    115\u001b[0m         \u001b[39m*\u001b[39m\u001b[39m*\u001b[39murlopen_kw,\n\u001b[0;32m    116\u001b[0m     )\n\u001b[0;32m    117\u001b[0m \u001b[39melse\u001b[39;00m:\n\u001b[1;32m--> 118\u001b[0m     \u001b[39mreturn\u001b[39;00m \u001b[39mself\u001b[39m\u001b[39m.\u001b[39mrequest_encode_body(\n\u001b[0;32m    119\u001b[0m         method, url, fields\u001b[39m=\u001b[39mfields, headers\u001b[39m=\u001b[39mheaders, \u001b[39m*\u001b[39m\u001b[39m*\u001b[39murlopen_kw\n\u001b[0;32m    120\u001b[0m     )\n",
      "File \u001b[1;32mc:\\backend_study\\META_ML_PJT\\.conda\\lib\\site-packages\\urllib3\\_request_methods.py:217\u001b[0m, in \u001b[0;36mRequestMethods.request_encode_body\u001b[1;34m(self, method, url, fields, headers, encode_multipart, multipart_boundary, **urlopen_kw)\u001b[0m\n\u001b[0;32m    213\u001b[0m     extra_kw[\u001b[39m\"\u001b[39m\u001b[39mheaders\u001b[39m\u001b[39m\"\u001b[39m]\u001b[39m.\u001b[39msetdefault(\u001b[39m\"\u001b[39m\u001b[39mContent-Type\u001b[39m\u001b[39m\"\u001b[39m, content_type)\n\u001b[0;32m    215\u001b[0m extra_kw\u001b[39m.\u001b[39mupdate(urlopen_kw)\n\u001b[1;32m--> 217\u001b[0m \u001b[39mreturn\u001b[39;00m \u001b[39mself\u001b[39m\u001b[39m.\u001b[39murlopen(method, url, \u001b[39m*\u001b[39m\u001b[39m*\u001b[39mextra_kw)\n",
      "File \u001b[1;32mc:\\backend_study\\META_ML_PJT\\.conda\\lib\\site-packages\\urllib3\\poolmanager.py:432\u001b[0m, in \u001b[0;36mPoolManager.urlopen\u001b[1;34m(self, method, url, redirect, **kw)\u001b[0m\n\u001b[0;32m    422\u001b[0m \u001b[39mif\u001b[39;00m u\u001b[39m.\u001b[39mscheme \u001b[39mis\u001b[39;00m \u001b[39mNone\u001b[39;00m:\n\u001b[0;32m    423\u001b[0m     warnings\u001b[39m.\u001b[39mwarn(\n\u001b[0;32m    424\u001b[0m         \u001b[39m\"\u001b[39m\u001b[39mURLs without a scheme (ie \u001b[39m\u001b[39m'\u001b[39m\u001b[39mhttps://\u001b[39m\u001b[39m'\u001b[39m\u001b[39m) are deprecated and will raise an error \u001b[39m\u001b[39m\"\u001b[39m\n\u001b[0;32m    425\u001b[0m         \u001b[39m\"\u001b[39m\u001b[39min a future version of urllib3. To avoid this DeprecationWarning ensure all URLs \u001b[39m\u001b[39m\"\u001b[39m\n\u001b[1;32m   (...)\u001b[0m\n\u001b[0;32m    429\u001b[0m         stacklevel\u001b[39m=\u001b[39m\u001b[39m2\u001b[39m,\n\u001b[0;32m    430\u001b[0m     )\n\u001b[1;32m--> 432\u001b[0m conn \u001b[39m=\u001b[39m \u001b[39mself\u001b[39;49m\u001b[39m.\u001b[39;49mconnection_from_host(u\u001b[39m.\u001b[39;49mhost, port\u001b[39m=\u001b[39;49mu\u001b[39m.\u001b[39;49mport, scheme\u001b[39m=\u001b[39;49mu\u001b[39m.\u001b[39;49mscheme)\n\u001b[0;32m    434\u001b[0m kw[\u001b[39m\"\u001b[39m\u001b[39massert_same_host\u001b[39m\u001b[39m\"\u001b[39m] \u001b[39m=\u001b[39m \u001b[39mFalse\u001b[39;00m\n\u001b[0;32m    435\u001b[0m kw[\u001b[39m\"\u001b[39m\u001b[39mredirect\u001b[39m\u001b[39m\"\u001b[39m] \u001b[39m=\u001b[39m \u001b[39mFalse\u001b[39;00m\n",
      "File \u001b[1;32mc:\\backend_study\\META_ML_PJT\\.conda\\lib\\site-packages\\urllib3\\poolmanager.py:303\u001b[0m, in \u001b[0;36mPoolManager.connection_from_host\u001b[1;34m(self, host, port, scheme, pool_kwargs)\u001b[0m\n\u001b[0;32m    300\u001b[0m request_context[\u001b[39m\"\u001b[39m\u001b[39mport\u001b[39m\u001b[39m\"\u001b[39m] \u001b[39m=\u001b[39m port\n\u001b[0;32m    301\u001b[0m request_context[\u001b[39m\"\u001b[39m\u001b[39mhost\u001b[39m\u001b[39m\"\u001b[39m] \u001b[39m=\u001b[39m host\n\u001b[1;32m--> 303\u001b[0m \u001b[39mreturn\u001b[39;00m \u001b[39mself\u001b[39;49m\u001b[39m.\u001b[39;49mconnection_from_context(request_context)\n",
      "File \u001b[1;32mc:\\backend_study\\META_ML_PJT\\.conda\\lib\\site-packages\\urllib3\\poolmanager.py:328\u001b[0m, in \u001b[0;36mPoolManager.connection_from_context\u001b[1;34m(self, request_context)\u001b[0m\n\u001b[0;32m    325\u001b[0m     \u001b[39mraise\u001b[39;00m URLSchemeUnknown(scheme)\n\u001b[0;32m    326\u001b[0m pool_key \u001b[39m=\u001b[39m pool_key_constructor(request_context)\n\u001b[1;32m--> 328\u001b[0m \u001b[39mreturn\u001b[39;00m \u001b[39mself\u001b[39;49m\u001b[39m.\u001b[39;49mconnection_from_pool_key(pool_key, request_context\u001b[39m=\u001b[39;49mrequest_context)\n",
      "File \u001b[1;32mc:\\backend_study\\META_ML_PJT\\.conda\\lib\\site-packages\\urllib3\\poolmanager.py:351\u001b[0m, in \u001b[0;36mPoolManager.connection_from_pool_key\u001b[1;34m(self, pool_key, request_context)\u001b[0m\n\u001b[0;32m    349\u001b[0m     host \u001b[39m=\u001b[39m request_context[\u001b[39m\"\u001b[39m\u001b[39mhost\u001b[39m\u001b[39m\"\u001b[39m]\n\u001b[0;32m    350\u001b[0m     port \u001b[39m=\u001b[39m request_context[\u001b[39m\"\u001b[39m\u001b[39mport\u001b[39m\u001b[39m\"\u001b[39m]\n\u001b[1;32m--> 351\u001b[0m     pool \u001b[39m=\u001b[39m \u001b[39mself\u001b[39;49m\u001b[39m.\u001b[39;49m_new_pool(scheme, host, port, request_context\u001b[39m=\u001b[39;49mrequest_context)\n\u001b[0;32m    352\u001b[0m     \u001b[39mself\u001b[39m\u001b[39m.\u001b[39mpools[pool_key] \u001b[39m=\u001b[39m pool\n\u001b[0;32m    354\u001b[0m \u001b[39mreturn\u001b[39;00m pool\n",
      "File \u001b[1;32mc:\\backend_study\\META_ML_PJT\\.conda\\lib\\site-packages\\urllib3\\poolmanager.py:265\u001b[0m, in \u001b[0;36mPoolManager._new_pool\u001b[1;34m(self, scheme, host, port, request_context)\u001b[0m\n\u001b[0;32m    262\u001b[0m     \u001b[39mfor\u001b[39;00m kw \u001b[39min\u001b[39;00m SSL_KEYWORDS:\n\u001b[0;32m    263\u001b[0m         request_context\u001b[39m.\u001b[39mpop(kw, \u001b[39mNone\u001b[39;00m)\n\u001b[1;32m--> 265\u001b[0m \u001b[39mreturn\u001b[39;00m pool_cls(host, port, \u001b[39m*\u001b[39m\u001b[39m*\u001b[39mrequest_context)\n",
      "File \u001b[1;32mc:\\backend_study\\META_ML_PJT\\.conda\\lib\\site-packages\\urllib3\\connectionpool.py:196\u001b[0m, in \u001b[0;36mHTTPConnectionPool.__init__\u001b[1;34m(self, host, port, timeout, maxsize, block, headers, retries, _proxy, _proxy_headers, _proxy_config, **conn_kw)\u001b[0m\n\u001b[0;32m    193\u001b[0m RequestMethods\u001b[39m.\u001b[39m\u001b[39m__init__\u001b[39m(\u001b[39mself\u001b[39m, headers)\n\u001b[0;32m    195\u001b[0m \u001b[39mif\u001b[39;00m \u001b[39mnot\u001b[39;00m \u001b[39misinstance\u001b[39m(timeout, Timeout):\n\u001b[1;32m--> 196\u001b[0m     timeout \u001b[39m=\u001b[39m Timeout\u001b[39m.\u001b[39;49mfrom_float(timeout)\n\u001b[0;32m    198\u001b[0m \u001b[39mif\u001b[39;00m retries \u001b[39mis\u001b[39;00m \u001b[39mNone\u001b[39;00m:\n\u001b[0;32m    199\u001b[0m     retries \u001b[39m=\u001b[39m Retry\u001b[39m.\u001b[39mDEFAULT\n",
      "File \u001b[1;32mc:\\backend_study\\META_ML_PJT\\.conda\\lib\\site-packages\\urllib3\\util\\timeout.py:190\u001b[0m, in \u001b[0;36mTimeout.from_float\u001b[1;34m(cls, timeout)\u001b[0m\n\u001b[0;32m    176\u001b[0m \u001b[39m@classmethod\u001b[39m\n\u001b[0;32m    177\u001b[0m \u001b[39mdef\u001b[39;00m \u001b[39mfrom_float\u001b[39m(\u001b[39mcls\u001b[39m, timeout: _TYPE_TIMEOUT) \u001b[39m-\u001b[39m\u001b[39m>\u001b[39m Timeout:\n\u001b[0;32m    178\u001b[0m \u001b[39m    \u001b[39m\u001b[39m\"\"\"Create a new Timeout from a legacy timeout value.\u001b[39;00m\n\u001b[0;32m    179\u001b[0m \n\u001b[0;32m    180\u001b[0m \u001b[39m    The timeout value used by httplib.py sets the same timeout on the\u001b[39;00m\n\u001b[1;32m   (...)\u001b[0m\n\u001b[0;32m    188\u001b[0m \u001b[39m    :rtype: :class:`Timeout`\u001b[39;00m\n\u001b[0;32m    189\u001b[0m \u001b[39m    \"\"\"\u001b[39;00m\n\u001b[1;32m--> 190\u001b[0m     \u001b[39mreturn\u001b[39;00m Timeout(read\u001b[39m=\u001b[39;49mtimeout, connect\u001b[39m=\u001b[39;49mtimeout)\n",
      "File \u001b[1;32mc:\\backend_study\\META_ML_PJT\\.conda\\lib\\site-packages\\urllib3\\util\\timeout.py:119\u001b[0m, in \u001b[0;36mTimeout.__init__\u001b[1;34m(self, total, connect, read)\u001b[0m\n\u001b[0;32m    113\u001b[0m \u001b[39mdef\u001b[39;00m \u001b[39m__init__\u001b[39m(\n\u001b[0;32m    114\u001b[0m     \u001b[39mself\u001b[39m,\n\u001b[0;32m    115\u001b[0m     total: _TYPE_TIMEOUT \u001b[39m=\u001b[39m \u001b[39mNone\u001b[39;00m,\n\u001b[0;32m    116\u001b[0m     connect: _TYPE_TIMEOUT \u001b[39m=\u001b[39m _DEFAULT_TIMEOUT,\n\u001b[0;32m    117\u001b[0m     read: _TYPE_TIMEOUT \u001b[39m=\u001b[39m _DEFAULT_TIMEOUT,\n\u001b[0;32m    118\u001b[0m ) \u001b[39m-\u001b[39m\u001b[39m>\u001b[39m \u001b[39mNone\u001b[39;00m:\n\u001b[1;32m--> 119\u001b[0m     \u001b[39mself\u001b[39m\u001b[39m.\u001b[39m_connect \u001b[39m=\u001b[39m \u001b[39mself\u001b[39;49m\u001b[39m.\u001b[39;49m_validate_timeout(connect, \u001b[39m\"\u001b[39;49m\u001b[39mconnect\u001b[39;49m\u001b[39m\"\u001b[39;49m)\n\u001b[0;32m    120\u001b[0m     \u001b[39mself\u001b[39m\u001b[39m.\u001b[39m_read \u001b[39m=\u001b[39m \u001b[39mself\u001b[39m\u001b[39m.\u001b[39m_validate_timeout(read, \u001b[39m\"\u001b[39m\u001b[39mread\u001b[39m\u001b[39m\"\u001b[39m)\n\u001b[0;32m    121\u001b[0m     \u001b[39mself\u001b[39m\u001b[39m.\u001b[39mtotal \u001b[39m=\u001b[39m \u001b[39mself\u001b[39m\u001b[39m.\u001b[39m_validate_timeout(total, \u001b[39m\"\u001b[39m\u001b[39mtotal\u001b[39m\u001b[39m\"\u001b[39m)\n",
      "File \u001b[1;32mc:\\backend_study\\META_ML_PJT\\.conda\\lib\\site-packages\\urllib3\\util\\timeout.py:156\u001b[0m, in \u001b[0;36mTimeout._validate_timeout\u001b[1;34m(cls, value, name)\u001b[0m\n\u001b[0;32m    154\u001b[0m     \u001b[39mfloat\u001b[39m(value)\n\u001b[0;32m    155\u001b[0m \u001b[39mexcept\u001b[39;00m (\u001b[39mTypeError\u001b[39;00m, \u001b[39mValueError\u001b[39;00m):\n\u001b[1;32m--> 156\u001b[0m     \u001b[39mraise\u001b[39;00m \u001b[39mValueError\u001b[39;00m(\n\u001b[0;32m    157\u001b[0m         \u001b[39m\"\u001b[39m\u001b[39mTimeout value \u001b[39m\u001b[39m%s\u001b[39;00m\u001b[39m was \u001b[39m\u001b[39m%s\u001b[39;00m\u001b[39m, but it must be an \u001b[39m\u001b[39m\"\u001b[39m\n\u001b[0;32m    158\u001b[0m         \u001b[39m\"\u001b[39m\u001b[39mint, float or None.\u001b[39m\u001b[39m\"\u001b[39m \u001b[39m%\u001b[39m (name, value)\n\u001b[0;32m    159\u001b[0m     ) \u001b[39mfrom\u001b[39;00m \u001b[39mNone\u001b[39;00m\n\u001b[0;32m    161\u001b[0m \u001b[39mtry\u001b[39;00m:\n\u001b[0;32m    162\u001b[0m     \u001b[39mif\u001b[39;00m value \u001b[39m<\u001b[39m\u001b[39m=\u001b[39m \u001b[39m0\u001b[39m:\n",
      "\u001b[1;31mValueError\u001b[0m: Timeout value connect was <object object at 0x00000267CD208B90>, but it must be an int, float or None."
     ]
    }
   ],
   "source": [
    "from selenium import webdriver\n",
    "from selenium.webdriver.common.keys import Keys\n",
    "from selenium.webdriver.common.by import By\n",
    "\n",
    "driver = webdriver.Chrome('chromedriver')\n",
    "driver.get('https://www.kbchachacha.com/public/search/main.kbc#!?_menu=buy&page=1&sort=-orderDate&makerCode=101&classCode=1109&carCode=2729')\n",
    "driver.find_element_by_xpath('//*[@id=\"content\"]/div[2]/div/div[2]/div[2]/div[3]/div[4]/div[2]/div[1]/div[2]/div/a').click()"
   ]
  },
  {
   "cell_type": "code",
   "execution_count": null,
   "metadata": {},
   "outputs": [],
   "source": []
  }
 ],
 "metadata": {
  "kernelspec": {
   "display_name": "base",
   "language": "python",
   "name": "python3"
  },
  "language_info": {
   "codemirror_mode": {
    "name": "ipython",
    "version": 3
   },
   "file_extension": ".py",
   "mimetype": "text/x-python",
   "name": "python",
   "nbconvert_exporter": "python",
   "pygments_lexer": "ipython3",
   "version": "3.10.11"
  },
  "orig_nbformat": 4
 },
 "nbformat": 4,
 "nbformat_minor": 2
}
