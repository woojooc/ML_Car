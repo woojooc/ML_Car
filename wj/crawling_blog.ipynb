{
 "cells": [
  {
   "cell_type": "code",
   "execution_count": 119,
   "metadata": {},
   "outputs": [],
   "source": [
    "import requests\n",
    "import time\n",
    "from bs4 import BeautifulSoup\n",
    "import pandas as pd\n",
    "from selenium import webdriver\n",
    "from selenium.webdriver.common.keys import Keys\n",
    "from selenium.webdriver.common.by import By\n",
    "from selenium.webdriver.chrome.service import Service\n",
    "from webdriver_manager.chrome import ChromeDriverManager\n",
    "\n",
    "# 크롬 웹드라이버 설치 및 설정\n",
    "chrome_options = webdriver.ChromeOptions()\n",
    "\n",
    "# user 로 보이기위한 user_agent// 각자의 컴퓨터에 맞게 확인 필요\n",
    "user_agent = 'Mozilla/5.0 (Windows NT 10.0; Win64; x64) AppleWebKit/537.36 (KHTML, like Gecko) Chrome/114.0.0.0 Safari/537.36'\n",
    "chrome_options.add_argument('user-agent=' + user_agent)\n",
    "\n",
    "chrome_options.add_experimental_option('detach', True)\n",
    "driver = webdriver.Chrome(service=Service(ChromeDriverManager().install()), options=chrome_options)\n",
    "driver.maximize_window()\n",
    "\n",
    "url = 'https://section.blog.naver.com/Search/Post.naver?pageNo=1&rangeType=ALL&orderBy=sim&keyword='\n",
    "keyword = '중고차'\n",
    "\n",
    "count = -1\n",
    "\n",
    "# 크롬 열기 및 주소입력\n",
    "driver.get(url + keyword)\n",
    "driver.implicitly_wait(5)\n",
    "time.sleep(1)\n",
    "\n",
    "title = ''\n",
    "body = ''\n"
   ]
  },
  {
   "cell_type": "code",
   "execution_count": 120,
   "metadata": {},
   "outputs": [
    {
     "ename": "NoSuchWindowException",
     "evalue": "Message: no such window: target window already closed\nfrom unknown error: web view not found\n  (Session info: chrome=114.0.5735.90)\nStacktrace:\nBacktrace:\n\tGetHandleVerifier [0x0079A813+48355]\n\t(No symbol) [0x0072C4B1]\n\t(No symbol) [0x00635358]\n\t(No symbol) [0x0061D293]\n\t(No symbol) [0x0067E37B]\n\t(No symbol) [0x0068C473]\n\t(No symbol) [0x0067A536]\n\t(No symbol) [0x006582DC]\n\t(No symbol) [0x006593DD]\n\tGetHandleVerifier [0x009FAABD+2539405]\n\tGetHandleVerifier [0x00A3A78F+2800735]\n\tGetHandleVerifier [0x00A3456C+2775612]\n\tGetHandleVerifier [0x008251E0+616112]\n\t(No symbol) [0x00735F8C]\n\t(No symbol) [0x00732328]\n\t(No symbol) [0x0073240B]\n\t(No symbol) [0x00724FF7]\n\tBaseThreadInitThunk [0x76257D59+25]\n\tRtlInitializeExceptionChain [0x7757B74B+107]\n\tRtlClearBits [0x7757B6CF+191]\n",
     "output_type": "error",
     "traceback": [
      "\u001b[1;31m---------------------------------------------------------------------------\u001b[0m",
      "\u001b[1;31mNoSuchWindowException\u001b[0m                     Traceback (most recent call last)",
      "Cell \u001b[1;32mIn[120], line 2\u001b[0m\n\u001b[0;32m      1\u001b[0m \u001b[39m# 매물 선택\u001b[39;00m\n\u001b[1;32m----> 2\u001b[0m driver\u001b[39m.\u001b[39mfind_element(By\u001b[39m.\u001b[39mXPATH, \u001b[39m'\u001b[39m\u001b[39m//*[@id=\u001b[39m\u001b[39m\"\u001b[39m\u001b[39mcontent\u001b[39m\u001b[39m\"\u001b[39m\u001b[39m]/section/div[2]/div[1]/div/div[1]/div[1]/a[1]/strong\u001b[39m\u001b[39m'\u001b[39m)\u001b[39m.\u001b[39mclick()\n\u001b[0;32m      4\u001b[0m driver\u001b[39m.\u001b[39mimplicitly_wait(\u001b[39m5\u001b[39m)\n\u001b[0;32m      5\u001b[0m time\u001b[39m.\u001b[39msleep(\u001b[39m2\u001b[39m)\n",
      "File \u001b[1;32mc:\\Users\\user\\miniconda3\\envs\\py\\Lib\\site-packages\\selenium\\webdriver\\remote\\webdriver.py:831\u001b[0m, in \u001b[0;36mWebDriver.find_element\u001b[1;34m(self, by, value)\u001b[0m\n\u001b[0;32m    828\u001b[0m     by \u001b[39m=\u001b[39m By\u001b[39m.\u001b[39mCSS_SELECTOR\n\u001b[0;32m    829\u001b[0m     value \u001b[39m=\u001b[39m \u001b[39mf\u001b[39m\u001b[39m'\u001b[39m\u001b[39m[name=\u001b[39m\u001b[39m\"\u001b[39m\u001b[39m{\u001b[39;00mvalue\u001b[39m}\u001b[39;00m\u001b[39m\"\u001b[39m\u001b[39m]\u001b[39m\u001b[39m'\u001b[39m\n\u001b[1;32m--> 831\u001b[0m \u001b[39mreturn\u001b[39;00m \u001b[39mself\u001b[39m\u001b[39m.\u001b[39mexecute(Command\u001b[39m.\u001b[39mFIND_ELEMENT, {\u001b[39m\"\u001b[39m\u001b[39musing\u001b[39m\u001b[39m\"\u001b[39m: by, \u001b[39m\"\u001b[39m\u001b[39mvalue\u001b[39m\u001b[39m\"\u001b[39m: value})[\u001b[39m\"\u001b[39m\u001b[39mvalue\u001b[39m\u001b[39m\"\u001b[39m]\n",
      "File \u001b[1;32mc:\\Users\\user\\miniconda3\\envs\\py\\Lib\\site-packages\\selenium\\webdriver\\remote\\webdriver.py:440\u001b[0m, in \u001b[0;36mWebDriver.execute\u001b[1;34m(self, driver_command, params)\u001b[0m\n\u001b[0;32m    438\u001b[0m response \u001b[39m=\u001b[39m \u001b[39mself\u001b[39m\u001b[39m.\u001b[39mcommand_executor\u001b[39m.\u001b[39mexecute(driver_command, params)\n\u001b[0;32m    439\u001b[0m \u001b[39mif\u001b[39;00m response:\n\u001b[1;32m--> 440\u001b[0m     \u001b[39mself\u001b[39m\u001b[39m.\u001b[39merror_handler\u001b[39m.\u001b[39mcheck_response(response)\n\u001b[0;32m    441\u001b[0m     response[\u001b[39m\"\u001b[39m\u001b[39mvalue\u001b[39m\u001b[39m\"\u001b[39m] \u001b[39m=\u001b[39m \u001b[39mself\u001b[39m\u001b[39m.\u001b[39m_unwrap_value(response\u001b[39m.\u001b[39mget(\u001b[39m\"\u001b[39m\u001b[39mvalue\u001b[39m\u001b[39m\"\u001b[39m, \u001b[39mNone\u001b[39;00m))\n\u001b[0;32m    442\u001b[0m     \u001b[39mreturn\u001b[39;00m response\n",
      "File \u001b[1;32mc:\\Users\\user\\miniconda3\\envs\\py\\Lib\\site-packages\\selenium\\webdriver\\remote\\errorhandler.py:245\u001b[0m, in \u001b[0;36mErrorHandler.check_response\u001b[1;34m(self, response)\u001b[0m\n\u001b[0;32m    243\u001b[0m         alert_text \u001b[39m=\u001b[39m value[\u001b[39m\"\u001b[39m\u001b[39malert\u001b[39m\u001b[39m\"\u001b[39m]\u001b[39m.\u001b[39mget(\u001b[39m\"\u001b[39m\u001b[39mtext\u001b[39m\u001b[39m\"\u001b[39m)\n\u001b[0;32m    244\u001b[0m     \u001b[39mraise\u001b[39;00m exception_class(message, screen, stacktrace, alert_text)  \u001b[39m# type: ignore[call-arg]  # mypy is not smart enough here\u001b[39;00m\n\u001b[1;32m--> 245\u001b[0m \u001b[39mraise\u001b[39;00m exception_class(message, screen, stacktrace)\n",
      "\u001b[1;31mNoSuchWindowException\u001b[0m: Message: no such window: target window already closed\nfrom unknown error: web view not found\n  (Session info: chrome=114.0.5735.90)\nStacktrace:\nBacktrace:\n\tGetHandleVerifier [0x0079A813+48355]\n\t(No symbol) [0x0072C4B1]\n\t(No symbol) [0x00635358]\n\t(No symbol) [0x0061D293]\n\t(No symbol) [0x0067E37B]\n\t(No symbol) [0x0068C473]\n\t(No symbol) [0x0067A536]\n\t(No symbol) [0x006582DC]\n\t(No symbol) [0x006593DD]\n\tGetHandleVerifier [0x009FAABD+2539405]\n\tGetHandleVerifier [0x00A3A78F+2800735]\n\tGetHandleVerifier [0x00A3456C+2775612]\n\tGetHandleVerifier [0x008251E0+616112]\n\t(No symbol) [0x00735F8C]\n\t(No symbol) [0x00732328]\n\t(No symbol) [0x0073240B]\n\t(No symbol) [0x00724FF7]\n\tBaseThreadInitThunk [0x76257D59+25]\n\tRtlInitializeExceptionChain [0x7757B74B+107]\n\tRtlClearBits [0x7757B6CF+191]\n"
     ]
    }
   ],
   "source": [
    "# 매물 선택\n",
    "driver.find_element(By.XPATH, '//*[@id=\"content\"]/section/div[2]/div[1]/div/div[1]/div[1]/a[1]/strong').click()\n",
    "\n",
    "driver.implicitly_wait(5)\n",
    "time.sleep(2)\n",
    "\n",
    "# 페이지 읽기\n",
    "html = driver.page_source\n",
    "soup = BeautifulSoup(html, 'html.parser')\n",
    "time.sleep(1)"
   ]
  },
  {
   "cell_type": "code",
   "execution_count": null,
   "metadata": {},
   "outputs": [
    {
     "ename": "InvalidArgumentException",
     "evalue": "Message: invalid argument: invalid 'id'\n  (Session info: chrome=114.0.5735.90)\nStacktrace:\nBacktrace:\n\tGetHandleVerifier [0x0079A813+48355]\n\t(No symbol) [0x0072C4B1]\n\t(No symbol) [0x00635358]\n\t(No symbol) [0x0068DD78]\n\t(No symbol) [0x0067A73C]\n\t(No symbol) [0x0068C922]\n\t(No symbol) [0x0067A536]\n\t(No symbol) [0x006582DC]\n\t(No symbol) [0x006593DD]\n\tGetHandleVerifier [0x009FAABD+2539405]\n\tGetHandleVerifier [0x00A3A78F+2800735]\n\tGetHandleVerifier [0x00A3456C+2775612]\n\tGetHandleVerifier [0x008251E0+616112]\n\t(No symbol) [0x00735F8C]\n\t(No symbol) [0x00732328]\n\t(No symbol) [0x0073240B]\n\t(No symbol) [0x00724FF7]\n\tBaseThreadInitThunk [0x76257D59+25]\n\tRtlInitializeExceptionChain [0x7757B74B+107]\n\tRtlClearBits [0x7757B6CF+191]\n",
     "output_type": "error",
     "traceback": [
      "\u001b[1;31m---------------------------------------------------------------------------\u001b[0m",
      "\u001b[1;31mInvalidArgumentException\u001b[0m                  Traceback (most recent call last)",
      "Cell \u001b[1;32mIn[103], line 7\u001b[0m\n\u001b[0;32m      1\u001b[0m \u001b[39m# 제목 구역 추출하기\u001b[39;00m\n\u001b[0;32m      2\u001b[0m \u001b[39m#print(soup)\u001b[39;00m\n\u001b[0;32m      3\u001b[0m \u001b[39m#title_sections = soup.find(\"div\", attrs={\"class\": \"se-title-text\"})\u001b[39;00m\n\u001b[0;32m      4\u001b[0m \u001b[39m#title_sections = soup.find_all(\"div\", attrs={\"class\": \"se-module se-module-text se-title-text\"})\u001b[39;00m\n\u001b[0;32m      6\u001b[0m iframe \u001b[39m=\u001b[39m driver\u001b[39m.\u001b[39mfind_elements(By\u001b[39m.\u001b[39mID, \u001b[39m'\u001b[39m\u001b[39mmainFrame\u001b[39m\u001b[39m'\u001b[39m)\n\u001b[1;32m----> 7\u001b[0m driver\u001b[39m.\u001b[39mswitch_to\u001b[39m.\u001b[39mframe(iframe)\n\u001b[0;32m      8\u001b[0m \u001b[39mprint\u001b[39m(driver\u001b[39m.\u001b[39mpage_source)\n\u001b[0;32m     10\u001b[0m src \u001b[39m=\u001b[39m iframe[\u001b[39m'\u001b[39m\u001b[39msrc\u001b[39m\u001b[39m'\u001b[39m]\n",
      "File \u001b[1;32mc:\\Users\\user\\miniconda3\\envs\\py\\Lib\\site-packages\\selenium\\webdriver\\remote\\switch_to.py:92\u001b[0m, in \u001b[0;36mSwitchTo.frame\u001b[1;34m(self, frame_reference)\u001b[0m\n\u001b[0;32m     89\u001b[0m         \u001b[39mexcept\u001b[39;00m NoSuchElementException:\n\u001b[0;32m     90\u001b[0m             \u001b[39mraise\u001b[39;00m NoSuchFrameException(frame_reference)\n\u001b[1;32m---> 92\u001b[0m \u001b[39mself\u001b[39m\u001b[39m.\u001b[39m_driver\u001b[39m.\u001b[39mexecute(Command\u001b[39m.\u001b[39mSWITCH_TO_FRAME, {\u001b[39m\"\u001b[39m\u001b[39mid\u001b[39m\u001b[39m\"\u001b[39m: frame_reference})\n",
      "File \u001b[1;32mc:\\Users\\user\\miniconda3\\envs\\py\\Lib\\site-packages\\selenium\\webdriver\\remote\\webdriver.py:440\u001b[0m, in \u001b[0;36mWebDriver.execute\u001b[1;34m(self, driver_command, params)\u001b[0m\n\u001b[0;32m    438\u001b[0m response \u001b[39m=\u001b[39m \u001b[39mself\u001b[39m\u001b[39m.\u001b[39mcommand_executor\u001b[39m.\u001b[39mexecute(driver_command, params)\n\u001b[0;32m    439\u001b[0m \u001b[39mif\u001b[39;00m response:\n\u001b[1;32m--> 440\u001b[0m     \u001b[39mself\u001b[39m\u001b[39m.\u001b[39merror_handler\u001b[39m.\u001b[39mcheck_response(response)\n\u001b[0;32m    441\u001b[0m     response[\u001b[39m\"\u001b[39m\u001b[39mvalue\u001b[39m\u001b[39m\"\u001b[39m] \u001b[39m=\u001b[39m \u001b[39mself\u001b[39m\u001b[39m.\u001b[39m_unwrap_value(response\u001b[39m.\u001b[39mget(\u001b[39m\"\u001b[39m\u001b[39mvalue\u001b[39m\u001b[39m\"\u001b[39m, \u001b[39mNone\u001b[39;00m))\n\u001b[0;32m    442\u001b[0m     \u001b[39mreturn\u001b[39;00m response\n",
      "File \u001b[1;32mc:\\Users\\user\\miniconda3\\envs\\py\\Lib\\site-packages\\selenium\\webdriver\\remote\\errorhandler.py:245\u001b[0m, in \u001b[0;36mErrorHandler.check_response\u001b[1;34m(self, response)\u001b[0m\n\u001b[0;32m    243\u001b[0m         alert_text \u001b[39m=\u001b[39m value[\u001b[39m\"\u001b[39m\u001b[39malert\u001b[39m\u001b[39m\"\u001b[39m]\u001b[39m.\u001b[39mget(\u001b[39m\"\u001b[39m\u001b[39mtext\u001b[39m\u001b[39m\"\u001b[39m)\n\u001b[0;32m    244\u001b[0m     \u001b[39mraise\u001b[39;00m exception_class(message, screen, stacktrace, alert_text)  \u001b[39m# type: ignore[call-arg]  # mypy is not smart enough here\u001b[39;00m\n\u001b[1;32m--> 245\u001b[0m \u001b[39mraise\u001b[39;00m exception_class(message, screen, stacktrace)\n",
      "\u001b[1;31mInvalidArgumentException\u001b[0m: Message: invalid argument: invalid 'id'\n  (Session info: chrome=114.0.5735.90)\nStacktrace:\nBacktrace:\n\tGetHandleVerifier [0x0079A813+48355]\n\t(No symbol) [0x0072C4B1]\n\t(No symbol) [0x00635358]\n\t(No symbol) [0x0068DD78]\n\t(No symbol) [0x0067A73C]\n\t(No symbol) [0x0068C922]\n\t(No symbol) [0x0067A536]\n\t(No symbol) [0x006582DC]\n\t(No symbol) [0x006593DD]\n\tGetHandleVerifier [0x009FAABD+2539405]\n\tGetHandleVerifier [0x00A3A78F+2800735]\n\tGetHandleVerifier [0x00A3456C+2775612]\n\tGetHandleVerifier [0x008251E0+616112]\n\t(No symbol) [0x00735F8C]\n\t(No symbol) [0x00732328]\n\t(No symbol) [0x0073240B]\n\t(No symbol) [0x00724FF7]\n\tBaseThreadInitThunk [0x76257D59+25]\n\tRtlInitializeExceptionChain [0x7757B74B+107]\n\tRtlClearBits [0x7757B6CF+191]\n"
     ]
    }
   ],
   "source": [
    "# 제목 구역 추출하기\n",
    "#print(soup)\n",
    "#title_sections = soup.find(\"div\", attrs={\"class\": \"se-title-text\"})\n",
    "#title_sections = soup.find_all(\"div\", attrs={\"class\": \"se-module se-module-text se-title-text\"})\n",
    "\n",
    "iframe = driver.find_elements(By.ID, 'mainFrame')\n",
    "driver.switch_to.frame(iframe)\n",
    "print(driver.page_source)\n",
    "\n",
    "src = iframe['src']\n",
    "print(src)\n",
    "\n",
    "driver.get('http://blog.naver.com' + src)\n",
    "\n",
    "title_sections = soup.find(\"div\", attrs={\"class\": \"se-title-text\"})\n",
    "print(title_sections)"
   ]
  },
  {
   "cell_type": "code",
   "execution_count": null,
   "metadata": {},
   "outputs": [
    {
     "name": "stdout",
     "output_type": "stream",
     "text": [
      "<iframe class=\"gnb_pad_lyr\" frameborder=\"0\" height=\"0\" id=\"gnb_my_lyr_iframe\" name=\"padding\" scrolling=\"no\" style=\"top: 55px; right: 10px; width: 320px; height: 158px; display: none; opacity: 0;\" title=\"빈 프레임\" width=\"0\"></iframe>\n",
      "None\n",
      "No src attribute found in the iframe.\n"
     ]
    }
   ],
   "source": [
    "# iframe 추출\n",
    "iframe = soup.find('iframe')\n",
    "print(iframe)\n",
    "\n",
    "if iframe:\n",
    "    # iframe의 내부 URL 추출\n",
    "    iframe_src = iframe.get('srcdoc')\n",
    "    print(iframe_src)\n",
    "\n",
    "    if iframe_src:\n",
    "        \n",
    "        # 절대 URL로 변환\n",
    "        absolute_url = driver.get('http://blog.naver.com' + iframe_src)\n",
    "\n",
    "        # 내부 URL에 대한 추가 크롤링\n",
    "        response = requests.get(absolute_url)\n",
    "        iframe_html = response.text\n",
    "\n",
    "        # 추가 크롤링된 HTML을 파싱하여 필요한 데이터 추출\n",
    "        iframe_soup = BeautifulSoup(iframe_html, 'html.parser')\n",
    "\n",
    "        # 필요한 데이터 추출 예시\n",
    "        title = iframe_soup.find('h1').text\n",
    "        content = iframe_soup.find('div', class_='content').text\n",
    "\n",
    "        # 추출한 데이터 출력\n",
    "        print('Title:', title)\n",
    "        print('Content:', content)\n",
    "    else:\n",
    "        print('No src attribute found in the iframe.')\n",
    "else:\n",
    "    print('No iframe found on the page.')"
   ]
  },
  {
   "cell_type": "code",
   "execution_count": 124,
   "metadata": {},
   "outputs": [
    {
     "ename": "NoSuchWindowException",
     "evalue": "Message: no such window: target window already closed\nfrom unknown error: web view not found\n  (Session info: chrome=114.0.5735.90)\nStacktrace:\nBacktrace:\n\tGetHandleVerifier [0x0079A813+48355]\n\t(No symbol) [0x0072C4B1]\n\t(No symbol) [0x00635358]\n\t(No symbol) [0x0061D293]\n\t(No symbol) [0x0067E37B]\n\t(No symbol) [0x0068C473]\n\t(No symbol) [0x0067A536]\n\t(No symbol) [0x006582DC]\n\t(No symbol) [0x006593DD]\n\tGetHandleVerifier [0x009FAABD+2539405]\n\tGetHandleVerifier [0x00A3A78F+2800735]\n\tGetHandleVerifier [0x00A3456C+2775612]\n\tGetHandleVerifier [0x008251E0+616112]\n\t(No symbol) [0x00735F8C]\n\t(No symbol) [0x00732328]\n\t(No symbol) [0x0073240B]\n\t(No symbol) [0x00724FF7]\n\tBaseThreadInitThunk [0x76257D59+25]\n\tRtlInitializeExceptionChain [0x7757B74B+107]\n\tRtlClearBits [0x7757B6CF+191]\n",
     "output_type": "error",
     "traceback": [
      "\u001b[1;31m---------------------------------------------------------------------------\u001b[0m",
      "\u001b[1;31mNoSuchWindowException\u001b[0m                     Traceback (most recent call last)",
      "Cell \u001b[1;32mIn[124], line 2\u001b[0m\n\u001b[0;32m      1\u001b[0m \u001b[39m#content = driver.find_element(By.TAG_NAME,\"iframe\")\u001b[39;00m\n\u001b[1;32m----> 2\u001b[0m driver\u001b[39m.\u001b[39mswitch_to\u001b[39m.\u001b[39mframe(\u001b[39m\"\u001b[39m\u001b[39mmainFrame\u001b[39m\u001b[39m\"\u001b[39m)\n\u001b[0;32m      3\u001b[0m r \u001b[39m=\u001b[39m driver\u001b[39m.\u001b[39mpage_source\n\u001b[0;32m      4\u001b[0m soup \u001b[39m=\u001b[39m BeautifulSoup(r, \u001b[39m\"\u001b[39m\u001b[39mhtml.parser\u001b[39m\u001b[39m\"\u001b[39m)\n",
      "File \u001b[1;32mc:\\Users\\user\\miniconda3\\envs\\py\\Lib\\site-packages\\selenium\\webdriver\\remote\\switch_to.py:85\u001b[0m, in \u001b[0;36mSwitchTo.frame\u001b[1;34m(self, frame_reference)\u001b[0m\n\u001b[0;32m     83\u001b[0m \u001b[39mif\u001b[39;00m \u001b[39misinstance\u001b[39m(frame_reference, \u001b[39mstr\u001b[39m):\n\u001b[0;32m     84\u001b[0m     \u001b[39mtry\u001b[39;00m:\n\u001b[1;32m---> 85\u001b[0m         frame_reference \u001b[39m=\u001b[39m \u001b[39mself\u001b[39m\u001b[39m.\u001b[39m_driver\u001b[39m.\u001b[39mfind_element(By\u001b[39m.\u001b[39mID, frame_reference)\n\u001b[0;32m     86\u001b[0m     \u001b[39mexcept\u001b[39;00m NoSuchElementException:\n\u001b[0;32m     87\u001b[0m         \u001b[39mtry\u001b[39;00m:\n",
      "File \u001b[1;32mc:\\Users\\user\\miniconda3\\envs\\py\\Lib\\site-packages\\selenium\\webdriver\\remote\\webdriver.py:831\u001b[0m, in \u001b[0;36mWebDriver.find_element\u001b[1;34m(self, by, value)\u001b[0m\n\u001b[0;32m    828\u001b[0m     by \u001b[39m=\u001b[39m By\u001b[39m.\u001b[39mCSS_SELECTOR\n\u001b[0;32m    829\u001b[0m     value \u001b[39m=\u001b[39m \u001b[39mf\u001b[39m\u001b[39m'\u001b[39m\u001b[39m[name=\u001b[39m\u001b[39m\"\u001b[39m\u001b[39m{\u001b[39;00mvalue\u001b[39m}\u001b[39;00m\u001b[39m\"\u001b[39m\u001b[39m]\u001b[39m\u001b[39m'\u001b[39m\n\u001b[1;32m--> 831\u001b[0m \u001b[39mreturn\u001b[39;00m \u001b[39mself\u001b[39m\u001b[39m.\u001b[39mexecute(Command\u001b[39m.\u001b[39mFIND_ELEMENT, {\u001b[39m\"\u001b[39m\u001b[39musing\u001b[39m\u001b[39m\"\u001b[39m: by, \u001b[39m\"\u001b[39m\u001b[39mvalue\u001b[39m\u001b[39m\"\u001b[39m: value})[\u001b[39m\"\u001b[39m\u001b[39mvalue\u001b[39m\u001b[39m\"\u001b[39m]\n",
      "File \u001b[1;32mc:\\Users\\user\\miniconda3\\envs\\py\\Lib\\site-packages\\selenium\\webdriver\\remote\\webdriver.py:440\u001b[0m, in \u001b[0;36mWebDriver.execute\u001b[1;34m(self, driver_command, params)\u001b[0m\n\u001b[0;32m    438\u001b[0m response \u001b[39m=\u001b[39m \u001b[39mself\u001b[39m\u001b[39m.\u001b[39mcommand_executor\u001b[39m.\u001b[39mexecute(driver_command, params)\n\u001b[0;32m    439\u001b[0m \u001b[39mif\u001b[39;00m response:\n\u001b[1;32m--> 440\u001b[0m     \u001b[39mself\u001b[39m\u001b[39m.\u001b[39merror_handler\u001b[39m.\u001b[39mcheck_response(response)\n\u001b[0;32m    441\u001b[0m     response[\u001b[39m\"\u001b[39m\u001b[39mvalue\u001b[39m\u001b[39m\"\u001b[39m] \u001b[39m=\u001b[39m \u001b[39mself\u001b[39m\u001b[39m.\u001b[39m_unwrap_value(response\u001b[39m.\u001b[39mget(\u001b[39m\"\u001b[39m\u001b[39mvalue\u001b[39m\u001b[39m\"\u001b[39m, \u001b[39mNone\u001b[39;00m))\n\u001b[0;32m    442\u001b[0m     \u001b[39mreturn\u001b[39;00m response\n",
      "File \u001b[1;32mc:\\Users\\user\\miniconda3\\envs\\py\\Lib\\site-packages\\selenium\\webdriver\\remote\\errorhandler.py:245\u001b[0m, in \u001b[0;36mErrorHandler.check_response\u001b[1;34m(self, response)\u001b[0m\n\u001b[0;32m    243\u001b[0m         alert_text \u001b[39m=\u001b[39m value[\u001b[39m\"\u001b[39m\u001b[39malert\u001b[39m\u001b[39m\"\u001b[39m]\u001b[39m.\u001b[39mget(\u001b[39m\"\u001b[39m\u001b[39mtext\u001b[39m\u001b[39m\"\u001b[39m)\n\u001b[0;32m    244\u001b[0m     \u001b[39mraise\u001b[39;00m exception_class(message, screen, stacktrace, alert_text)  \u001b[39m# type: ignore[call-arg]  # mypy is not smart enough here\u001b[39;00m\n\u001b[1;32m--> 245\u001b[0m \u001b[39mraise\u001b[39;00m exception_class(message, screen, stacktrace)\n",
      "\u001b[1;31mNoSuchWindowException\u001b[0m: Message: no such window: target window already closed\nfrom unknown error: web view not found\n  (Session info: chrome=114.0.5735.90)\nStacktrace:\nBacktrace:\n\tGetHandleVerifier [0x0079A813+48355]\n\t(No symbol) [0x0072C4B1]\n\t(No symbol) [0x00635358]\n\t(No symbol) [0x0061D293]\n\t(No symbol) [0x0067E37B]\n\t(No symbol) [0x0068C473]\n\t(No symbol) [0x0067A536]\n\t(No symbol) [0x006582DC]\n\t(No symbol) [0x006593DD]\n\tGetHandleVerifier [0x009FAABD+2539405]\n\tGetHandleVerifier [0x00A3A78F+2800735]\n\tGetHandleVerifier [0x00A3456C+2775612]\n\tGetHandleVerifier [0x008251E0+616112]\n\t(No symbol) [0x00735F8C]\n\t(No symbol) [0x00732328]\n\t(No symbol) [0x0073240B]\n\t(No symbol) [0x00724FF7]\n\tBaseThreadInitThunk [0x76257D59+25]\n\tRtlInitializeExceptionChain [0x7757B74B+107]\n\tRtlClearBits [0x7757B6CF+191]\n"
     ]
    }
   ],
   "source": [
    "#content = driver.find_element(By.TAG_NAME,\"iframe\")\n",
    "driver.switch_to.frame(\"mainFrame\")\n",
    "r = driver.page_source\n",
    "soup = BeautifulSoup(r, \"html.parser\")\n",
    "soup"
   ]
  },
  {
   "cell_type": "code",
   "execution_count": 127,
   "metadata": {},
   "outputs": [
    {
     "ename": "NoSuchWindowException",
     "evalue": "Message: no such window: target window already closed\nfrom unknown error: web view not found\n  (Session info: chrome=114.0.5735.90)\nStacktrace:\nBacktrace:\n\tGetHandleVerifier [0x0079A813+48355]\n\t(No symbol) [0x0072C4B1]\n\t(No symbol) [0x00635358]\n\t(No symbol) [0x0061D293]\n\t(No symbol) [0x0067E37B]\n\t(No symbol) [0x0068C473]\n\t(No symbol) [0x0067A536]\n\t(No symbol) [0x006582DC]\n\t(No symbol) [0x006593DD]\n\tGetHandleVerifier [0x009FAABD+2539405]\n\tGetHandleVerifier [0x00A3A78F+2800735]\n\tGetHandleVerifier [0x00A3456C+2775612]\n\tGetHandleVerifier [0x008251E0+616112]\n\t(No symbol) [0x00735F8C]\n\t(No symbol) [0x00732328]\n\t(No symbol) [0x0073240B]\n\t(No symbol) [0x00724FF7]\n\tBaseThreadInitThunk [0x76257D59+25]\n\tRtlInitializeExceptionChain [0x7757B74B+107]\n\tRtlClearBits [0x7757B6CF+191]\n",
     "output_type": "error",
     "traceback": [
      "\u001b[1;31m---------------------------------------------------------------------------\u001b[0m",
      "\u001b[1;31mNoSuchWindowException\u001b[0m                     Traceback (most recent call last)",
      "Cell \u001b[1;32mIn[127], line 3\u001b[0m\n\u001b[0;32m      1\u001b[0m \u001b[39m# iframe 요소 찾기\u001b[39;00m\n\u001b[0;32m      2\u001b[0m \u001b[39m#iframe = driver.find_element(By.XPATH, '//*[@id=\"mainFrame\"]')\u001b[39;00m\n\u001b[1;32m----> 3\u001b[0m iframe \u001b[39m=\u001b[39m driver\u001b[39m.\u001b[39mfind_elements(By\u001b[39m.\u001b[39mID, \u001b[39m'\u001b[39m\u001b[39mmainFrame\u001b[39m\u001b[39m'\u001b[39m)\n\u001b[0;32m      4\u001b[0m \u001b[39m# iframe의 src 속성 가져오기\u001b[39;00m\n\u001b[0;32m      5\u001b[0m src \u001b[39m=\u001b[39m iframe\u001b[39m.\u001b[39mget_attribute(\u001b[39m'\u001b[39m\u001b[39msrc\u001b[39m\u001b[39m'\u001b[39m)\n",
      "File \u001b[1;32mc:\\Users\\user\\miniconda3\\envs\\py\\Lib\\site-packages\\selenium\\webdriver\\remote\\webdriver.py:861\u001b[0m, in \u001b[0;36mWebDriver.find_elements\u001b[1;34m(self, by, value)\u001b[0m\n\u001b[0;32m    857\u001b[0m     value \u001b[39m=\u001b[39m \u001b[39mf\u001b[39m\u001b[39m'\u001b[39m\u001b[39m[name=\u001b[39m\u001b[39m\"\u001b[39m\u001b[39m{\u001b[39;00mvalue\u001b[39m}\u001b[39;00m\u001b[39m\"\u001b[39m\u001b[39m]\u001b[39m\u001b[39m'\u001b[39m\n\u001b[0;32m    859\u001b[0m \u001b[39m# Return empty list if driver returns null\u001b[39;00m\n\u001b[0;32m    860\u001b[0m \u001b[39m# See https://github.com/SeleniumHQ/selenium/issues/4555\u001b[39;00m\n\u001b[1;32m--> 861\u001b[0m \u001b[39mreturn\u001b[39;00m \u001b[39mself\u001b[39m\u001b[39m.\u001b[39mexecute(Command\u001b[39m.\u001b[39mFIND_ELEMENTS, {\u001b[39m\"\u001b[39m\u001b[39musing\u001b[39m\u001b[39m\"\u001b[39m: by, \u001b[39m\"\u001b[39m\u001b[39mvalue\u001b[39m\u001b[39m\"\u001b[39m: value})[\u001b[39m\"\u001b[39m\u001b[39mvalue\u001b[39m\u001b[39m\"\u001b[39m] \u001b[39mor\u001b[39;00m []\n",
      "File \u001b[1;32mc:\\Users\\user\\miniconda3\\envs\\py\\Lib\\site-packages\\selenium\\webdriver\\remote\\webdriver.py:440\u001b[0m, in \u001b[0;36mWebDriver.execute\u001b[1;34m(self, driver_command, params)\u001b[0m\n\u001b[0;32m    438\u001b[0m response \u001b[39m=\u001b[39m \u001b[39mself\u001b[39m\u001b[39m.\u001b[39mcommand_executor\u001b[39m.\u001b[39mexecute(driver_command, params)\n\u001b[0;32m    439\u001b[0m \u001b[39mif\u001b[39;00m response:\n\u001b[1;32m--> 440\u001b[0m     \u001b[39mself\u001b[39m\u001b[39m.\u001b[39merror_handler\u001b[39m.\u001b[39mcheck_response(response)\n\u001b[0;32m    441\u001b[0m     response[\u001b[39m\"\u001b[39m\u001b[39mvalue\u001b[39m\u001b[39m\"\u001b[39m] \u001b[39m=\u001b[39m \u001b[39mself\u001b[39m\u001b[39m.\u001b[39m_unwrap_value(response\u001b[39m.\u001b[39mget(\u001b[39m\"\u001b[39m\u001b[39mvalue\u001b[39m\u001b[39m\"\u001b[39m, \u001b[39mNone\u001b[39;00m))\n\u001b[0;32m    442\u001b[0m     \u001b[39mreturn\u001b[39;00m response\n",
      "File \u001b[1;32mc:\\Users\\user\\miniconda3\\envs\\py\\Lib\\site-packages\\selenium\\webdriver\\remote\\errorhandler.py:245\u001b[0m, in \u001b[0;36mErrorHandler.check_response\u001b[1;34m(self, response)\u001b[0m\n\u001b[0;32m    243\u001b[0m         alert_text \u001b[39m=\u001b[39m value[\u001b[39m\"\u001b[39m\u001b[39malert\u001b[39m\u001b[39m\"\u001b[39m]\u001b[39m.\u001b[39mget(\u001b[39m\"\u001b[39m\u001b[39mtext\u001b[39m\u001b[39m\"\u001b[39m)\n\u001b[0;32m    244\u001b[0m     \u001b[39mraise\u001b[39;00m exception_class(message, screen, stacktrace, alert_text)  \u001b[39m# type: ignore[call-arg]  # mypy is not smart enough here\u001b[39;00m\n\u001b[1;32m--> 245\u001b[0m \u001b[39mraise\u001b[39;00m exception_class(message, screen, stacktrace)\n",
      "\u001b[1;31mNoSuchWindowException\u001b[0m: Message: no such window: target window already closed\nfrom unknown error: web view not found\n  (Session info: chrome=114.0.5735.90)\nStacktrace:\nBacktrace:\n\tGetHandleVerifier [0x0079A813+48355]\n\t(No symbol) [0x0072C4B1]\n\t(No symbol) [0x00635358]\n\t(No symbol) [0x0061D293]\n\t(No symbol) [0x0067E37B]\n\t(No symbol) [0x0068C473]\n\t(No symbol) [0x0067A536]\n\t(No symbol) [0x006582DC]\n\t(No symbol) [0x006593DD]\n\tGetHandleVerifier [0x009FAABD+2539405]\n\tGetHandleVerifier [0x00A3A78F+2800735]\n\tGetHandleVerifier [0x00A3456C+2775612]\n\tGetHandleVerifier [0x008251E0+616112]\n\t(No symbol) [0x00735F8C]\n\t(No symbol) [0x00732328]\n\t(No symbol) [0x0073240B]\n\t(No symbol) [0x00724FF7]\n\tBaseThreadInitThunk [0x76257D59+25]\n\tRtlInitializeExceptionChain [0x7757B74B+107]\n\tRtlClearBits [0x7757B6CF+191]\n"
     ]
    }
   ],
   "source": [
    "# iframe 요소 찾기\n",
    "#iframe = driver.find_element(By.XPATH, '//*[@id=\"mainFrame\"]')\n",
    "iframe = driver.find_elements(By.ID, 'mainFrame')\n",
    "\n",
    "# iframe의 src 속성 가져오기\n",
    "src = iframe.get_attribute('src')\n",
    "print(src)\n",
    "\n",
    "driver.get('http://blog.naver.com' + src)\n",
    "\n",
    "title_sections = soup.find(\"div\", attrs={\"class\": \"se-title-text\"})\n",
    "print(title_sections)"
   ]
  },
  {
   "cell_type": "code",
   "execution_count": 128,
   "metadata": {},
   "outputs": [
    {
     "ename": "NoSuchWindowException",
     "evalue": "Message: no such window: target window already closed\nfrom unknown error: web view not found\n  (Session info: chrome=114.0.5735.90)\nStacktrace:\nBacktrace:\n\tGetHandleVerifier [0x0079A813+48355]\n\t(No symbol) [0x0072C4B1]\n\t(No symbol) [0x00635358]\n\t(No symbol) [0x0061D293]\n\t(No symbol) [0x0067E37B]\n\t(No symbol) [0x0068C473]\n\t(No symbol) [0x0067A536]\n\t(No symbol) [0x006582DC]\n\t(No symbol) [0x006593DD]\n\tGetHandleVerifier [0x009FAABD+2539405]\n\tGetHandleVerifier [0x00A3A78F+2800735]\n\tGetHandleVerifier [0x00A3456C+2775612]\n\tGetHandleVerifier [0x008251E0+616112]\n\t(No symbol) [0x00735F8C]\n\t(No symbol) [0x00732328]\n\t(No symbol) [0x0073240B]\n\t(No symbol) [0x00724FF7]\n\tBaseThreadInitThunk [0x76257D59+25]\n\tRtlInitializeExceptionChain [0x7757B74B+107]\n\tRtlClearBits [0x7757B6CF+191]\n",
     "output_type": "error",
     "traceback": [
      "\u001b[1;31m---------------------------------------------------------------------------\u001b[0m",
      "\u001b[1;31mNoSuchWindowException\u001b[0m                     Traceback (most recent call last)",
      "Cell \u001b[1;32mIn[128], line 1\u001b[0m\n\u001b[1;32m----> 1\u001b[0m driver\u001b[39m.\u001b[39mswitch_to\u001b[39m.\u001b[39mframe(\u001b[39m'\u001b[39m\u001b[39mmainFrame\u001b[39m\u001b[39m'\u001b[39m)\n\u001b[0;32m      2\u001b[0m overlays \u001b[39m=\u001b[39m \u001b[39m\"\u001b[39m\u001b[39m.se-component.se-text.se-l-default\u001b[39m\u001b[39m\"\u001b[39m \u001b[39m# 내용 크롤링\u001b[39;00m\n\u001b[0;32m      3\u001b[0m contents \u001b[39m=\u001b[39m driver\u001b[39m.\u001b[39mfind_elements_by_css_selector(overlays)\n",
      "File \u001b[1;32mc:\\Users\\user\\miniconda3\\envs\\py\\Lib\\site-packages\\selenium\\webdriver\\remote\\switch_to.py:85\u001b[0m, in \u001b[0;36mSwitchTo.frame\u001b[1;34m(self, frame_reference)\u001b[0m\n\u001b[0;32m     83\u001b[0m \u001b[39mif\u001b[39;00m \u001b[39misinstance\u001b[39m(frame_reference, \u001b[39mstr\u001b[39m):\n\u001b[0;32m     84\u001b[0m     \u001b[39mtry\u001b[39;00m:\n\u001b[1;32m---> 85\u001b[0m         frame_reference \u001b[39m=\u001b[39m \u001b[39mself\u001b[39m\u001b[39m.\u001b[39m_driver\u001b[39m.\u001b[39mfind_element(By\u001b[39m.\u001b[39mID, frame_reference)\n\u001b[0;32m     86\u001b[0m     \u001b[39mexcept\u001b[39;00m NoSuchElementException:\n\u001b[0;32m     87\u001b[0m         \u001b[39mtry\u001b[39;00m:\n",
      "File \u001b[1;32mc:\\Users\\user\\miniconda3\\envs\\py\\Lib\\site-packages\\selenium\\webdriver\\remote\\webdriver.py:831\u001b[0m, in \u001b[0;36mWebDriver.find_element\u001b[1;34m(self, by, value)\u001b[0m\n\u001b[0;32m    828\u001b[0m     by \u001b[39m=\u001b[39m By\u001b[39m.\u001b[39mCSS_SELECTOR\n\u001b[0;32m    829\u001b[0m     value \u001b[39m=\u001b[39m \u001b[39mf\u001b[39m\u001b[39m'\u001b[39m\u001b[39m[name=\u001b[39m\u001b[39m\"\u001b[39m\u001b[39m{\u001b[39;00mvalue\u001b[39m}\u001b[39;00m\u001b[39m\"\u001b[39m\u001b[39m]\u001b[39m\u001b[39m'\u001b[39m\n\u001b[1;32m--> 831\u001b[0m \u001b[39mreturn\u001b[39;00m \u001b[39mself\u001b[39m\u001b[39m.\u001b[39mexecute(Command\u001b[39m.\u001b[39mFIND_ELEMENT, {\u001b[39m\"\u001b[39m\u001b[39musing\u001b[39m\u001b[39m\"\u001b[39m: by, \u001b[39m\"\u001b[39m\u001b[39mvalue\u001b[39m\u001b[39m\"\u001b[39m: value})[\u001b[39m\"\u001b[39m\u001b[39mvalue\u001b[39m\u001b[39m\"\u001b[39m]\n",
      "File \u001b[1;32mc:\\Users\\user\\miniconda3\\envs\\py\\Lib\\site-packages\\selenium\\webdriver\\remote\\webdriver.py:440\u001b[0m, in \u001b[0;36mWebDriver.execute\u001b[1;34m(self, driver_command, params)\u001b[0m\n\u001b[0;32m    438\u001b[0m response \u001b[39m=\u001b[39m \u001b[39mself\u001b[39m\u001b[39m.\u001b[39mcommand_executor\u001b[39m.\u001b[39mexecute(driver_command, params)\n\u001b[0;32m    439\u001b[0m \u001b[39mif\u001b[39;00m response:\n\u001b[1;32m--> 440\u001b[0m     \u001b[39mself\u001b[39m\u001b[39m.\u001b[39merror_handler\u001b[39m.\u001b[39mcheck_response(response)\n\u001b[0;32m    441\u001b[0m     response[\u001b[39m\"\u001b[39m\u001b[39mvalue\u001b[39m\u001b[39m\"\u001b[39m] \u001b[39m=\u001b[39m \u001b[39mself\u001b[39m\u001b[39m.\u001b[39m_unwrap_value(response\u001b[39m.\u001b[39mget(\u001b[39m\"\u001b[39m\u001b[39mvalue\u001b[39m\u001b[39m\"\u001b[39m, \u001b[39mNone\u001b[39;00m))\n\u001b[0;32m    442\u001b[0m     \u001b[39mreturn\u001b[39;00m response\n",
      "File \u001b[1;32mc:\\Users\\user\\miniconda3\\envs\\py\\Lib\\site-packages\\selenium\\webdriver\\remote\\errorhandler.py:245\u001b[0m, in \u001b[0;36mErrorHandler.check_response\u001b[1;34m(self, response)\u001b[0m\n\u001b[0;32m    243\u001b[0m         alert_text \u001b[39m=\u001b[39m value[\u001b[39m\"\u001b[39m\u001b[39malert\u001b[39m\u001b[39m\"\u001b[39m]\u001b[39m.\u001b[39mget(\u001b[39m\"\u001b[39m\u001b[39mtext\u001b[39m\u001b[39m\"\u001b[39m)\n\u001b[0;32m    244\u001b[0m     \u001b[39mraise\u001b[39;00m exception_class(message, screen, stacktrace, alert_text)  \u001b[39m# type: ignore[call-arg]  # mypy is not smart enough here\u001b[39;00m\n\u001b[1;32m--> 245\u001b[0m \u001b[39mraise\u001b[39;00m exception_class(message, screen, stacktrace)\n",
      "\u001b[1;31mNoSuchWindowException\u001b[0m: Message: no such window: target window already closed\nfrom unknown error: web view not found\n  (Session info: chrome=114.0.5735.90)\nStacktrace:\nBacktrace:\n\tGetHandleVerifier [0x0079A813+48355]\n\t(No symbol) [0x0072C4B1]\n\t(No symbol) [0x00635358]\n\t(No symbol) [0x0061D293]\n\t(No symbol) [0x0067E37B]\n\t(No symbol) [0x0068C473]\n\t(No symbol) [0x0067A536]\n\t(No symbol) [0x006582DC]\n\t(No symbol) [0x006593DD]\n\tGetHandleVerifier [0x009FAABD+2539405]\n\tGetHandleVerifier [0x00A3A78F+2800735]\n\tGetHandleVerifier [0x00A3456C+2775612]\n\tGetHandleVerifier [0x008251E0+616112]\n\t(No symbol) [0x00735F8C]\n\t(No symbol) [0x00732328]\n\t(No symbol) [0x0073240B]\n\t(No symbol) [0x00724FF7]\n\tBaseThreadInitThunk [0x76257D59+25]\n\tRtlInitializeExceptionChain [0x7757B74B+107]\n\tRtlClearBits [0x7757B6CF+191]\n"
     ]
    }
   ],
   "source": [
    "driver.switch_to.frame('mainFrame')\n",
    "overlays = \".se-component.se-text.se-l-default\" # 내용 크롤링\n",
    "contents = driver.find_elements_by_css_selector(overlays)\n",
    "contents"
   ]
  },
  {
   "cell_type": "code",
   "execution_count": 23,
   "metadata": {},
   "outputs": [
    {
     "name": "stdout",
     "output_type": "stream",
     "text": [
      "None\n"
     ]
    }
   ],
   "source": [
    "# 본문 구역 추출하기\n",
    "body_sections = soup.find(\"div\", attrs={\"class\": \"se-main-container\"})\n",
    "print(body_sections)"
   ]
  }
 ],
 "metadata": {
  "kernelspec": {
   "display_name": "py",
   "language": "python",
   "name": "python3"
  },
  "language_info": {
   "codemirror_mode": {
    "name": "ipython",
    "version": 3
   },
   "file_extension": ".py",
   "mimetype": "text/x-python",
   "name": "python",
   "nbconvert_exporter": "python",
   "pygments_lexer": "ipython3",
   "version": "3.11.3"
  },
  "orig_nbformat": 4
 },
 "nbformat": 4,
 "nbformat_minor": 2
}
