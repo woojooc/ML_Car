{
 "cells": [
  {
   "cell_type": "code",
   "execution_count": 19,
   "metadata": {},
   "outputs": [
    {
     "name": "stdout",
     "output_type": "stream",
     "text": [
      "\n"
     ]
    }
   ],
   "source": [
    "import sys\n",
    "from selenium import webdriver\n",
    "from selenium.webdriver.common.keys import Keys\n",
    "from selenium.webdriver.common.by import By\n",
    "from selenium.webdriver.chrome.service import Service\n",
    "from webdriver_manager.chrome import ChromeDriverManager\n",
    "from bs4 import BeautifulSoup\n",
    "\n",
    "# 크롬 웹드라이버 설치 및 설정\n",
    "chrome_options = webdriver.ChromeOptions()\n",
    "# user 로 보이기위한 user_agent | 각자의 컴퓨터에 맞게 확인 필요\n",
    "user_agent = 'Mozilla/5.0 (Windows NT 10.0; Win64; x64) AppleWebKit/537.36 (KHTML, like Gecko) Chrome/113.0.0.0 Safari/537.36'\n",
    "chrome_options.add_argument('user-agent=' + user_agent)\n",
    "# 화면 출력 없이 작동\n",
    "chrome_options.add_argument('headless')\n",
    "chrome_options.add_argument('disable-gpu')\n",
    "# chrome_options.add_experimental_option('detach', True) # 웹드라이버 수동 종료\n",
    "driver = webdriver.Chrome(service=Service(ChromeDriverManager().install()), options=chrome_options)\n",
    "# driver.maximize_window()\n",
    "\n",
    "# 차차차 중고차 목록 주소\n",
    "base_url = 'https://www.kbchachacha.com/public/search/main.kbc#!?page=1&sort=-orderDate&directYn=Y'\n",
    "max_page = 40\n",
    "\n",
    "driver.get(base_url)\n",
    "# 웹페이지의 프레임 전환 | 각 프레임은 독립적인 HTML 문서로 간주\n",
    "# driver.switch_to.frame('mainFrame')\n",
    "\n",
    "# 중고차 목록\n",
    "cars = driver.find_elements(By.CSS_SELECTOR,'div.thumnail')\n",
    "\n",
    "frames = driver.find_elements(By.TAG_NAME, 'iframe')\n",
    "\n",
    "for car in frames:\n",
    "    print(car.text)\n",
    "\n",
    "\n",
    "    \n",
    "driver.quit()"
   ]
  }
 ],
 "metadata": {
  "kernelspec": {
   "display_name": "meta",
   "language": "python",
   "name": "python3"
  },
  "language_info": {
   "codemirror_mode": {
    "name": "ipython",
    "version": 3
   },
   "file_extension": ".py",
   "mimetype": "text/x-python",
   "name": "python",
   "nbconvert_exporter": "python",
   "pygments_lexer": "ipython3",
   "version": "3.11.3"
  },
  "orig_nbformat": 4
 },
 "nbformat": 4,
 "nbformat_minor": 2
}
