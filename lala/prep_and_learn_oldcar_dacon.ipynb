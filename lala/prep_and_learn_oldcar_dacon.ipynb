{
 "cells": [
  {
   "attachments": {},
   "cell_type": "markdown",
   "metadata": {},
   "source": [
    "## 데이터 전처리"
   ]
  },
  {
   "cell_type": "code",
   "execution_count": 1,
   "metadata": {},
   "outputs": [],
   "source": [
    "import pandas as pd\n",
    "from sklearn.preprocessing import LabelEncoder, StandardScaler\n",
    "import numpy as np\n",
    "from sklearn.model_selection import train_test_split, cross_val_score\n",
    "from sklearn.linear_model import LinearRegression\n",
    "from sklearn.metrics import r2_score, mean_squared_error, mean_absolute_error\n",
    "import seaborn as sns\n",
    "import matplotlib.pyplot as plt"
   ]
  },
  {
   "cell_type": "code",
   "execution_count": 2,
   "metadata": {},
   "outputs": [],
   "source": [
    "df = pd.read_csv('csv/train.csv')"
   ]
  },
  {
   "cell_type": "code",
   "execution_count": 3,
   "metadata": {},
   "outputs": [],
   "source": [
    "# 차트 한글폰트\n",
    "plt.rc('font', family='Malgun Gothic')"
   ]
  },
  {
   "cell_type": "code",
   "execution_count": 4,
   "metadata": {},
   "outputs": [
    {
     "name": "stdout",
     "output_type": "stream",
     "text": [
      "<class 'pandas.core.frame.DataFrame'>\n",
      "RangeIndex: 56698 entries, 0 to 56697\n",
      "Data columns (total 8 columns):\n",
      " #   Column  Non-Null Count  Dtype  \n",
      "---  ------  --------------  -----  \n",
      " 0   생산년도    56698 non-null  int64  \n",
      " 1   모델출시년도  56698 non-null  int64  \n",
      " 2   브랜드     56698 non-null  object \n",
      " 3   차량모델명   56698 non-null  object \n",
      " 4   주행거리    56698 non-null  int64  \n",
      " 5   배기량     56698 non-null  int64  \n",
      " 6   가격      56698 non-null  float64\n",
      " 7   연료      56698 non-null  int64  \n",
      "dtypes: float64(1), int64(5), object(2)\n",
      "memory usage: 3.5+ MB\n"
     ]
    }
   ],
   "source": [
    "drop_cols = ['ID','압축천연가스(CNG)','경유','가솔린','하이브리드','액화석유가스(LPG)', '판매도시','판매구역',]\n",
    "\n",
    "# '연료' 컬럼 생성 및 값 할당\n",
    "df['연료'] = 0\n",
    "# '액화석유가스(LPG)'에 해당하는 경우 4 할당\n",
    "df.loc[df['액화석유가스(LPG)'] == 1, '연료'] = 0\n",
    "# '경유'에 해당하는 경우 1 할당\n",
    "df.loc[df['경유'] == 1, '연료'] = 1\n",
    "# '가솔린'에 해당하는 경우 2 할당\n",
    "df.loc[df['가솔린'] == 1, '연료'] = 2\n",
    "# '압축천연가스(CNG)'에 해당하는 경우 3 할당\n",
    "df.loc[df['압축천연가스(CNG)'] == 1, '연료'] = 3\n",
    "# '하이브리드'에 해당하는 경우 4 할당\n",
    "df.loc[df['하이브리드'] == 1, '연료'] = 4\n",
    "\n",
    "# 기존 컬럼 제거\n",
    "df = df.drop(columns=drop_cols)\n",
    "df = df[df['주행거리'] != df['주행거리'].max()]\n",
    "df = df[df[\"주행거리\"] >= 200]\n",
    "df = df.reset_index(drop=True)\n",
    "df.info()"
   ]
  },
  {
   "cell_type": "code",
   "execution_count": 5,
   "metadata": {},
   "outputs": [],
   "source": [
    "# 레이블 인코딩(Label Encoding) - 차량모델명 컬럼\n",
    "label_encoder = LabelEncoder()\n",
    "df['차량모델명'] = label_encoder.fit_transform(df['차량모델명'])\n",
    "# df['판매도시'] = label_encoder.fit_transform(df['판매도시'])\n",
    "\n",
    "# 원핫 인코딩(One-Hot Encoding) - 차량모델명 컬럼\n",
    "df = pd.get_dummies(df)"
   ]
  },
  {
   "attachments": {},
   "cell_type": "markdown",
   "metadata": {},
   "source": [
    "## 스케일링"
   ]
  },
  {
   "cell_type": "code",
   "execution_count": 6,
   "metadata": {},
   "outputs": [],
   "source": [
    "# # 로그 스케일링\n",
    "# df['주행거리'] = np.log(df['주행거리'])"
   ]
  },
  {
   "cell_type": "code",
   "execution_count": 7,
   "metadata": {},
   "outputs": [],
   "source": [
    "# # 스탠다드 스케일링\n",
    "# scaler = StandardScaler()\n",
    "# scaled_data = scaler.fit_transform(df)\n",
    "# scaled_df = pd.DataFrame(scaled_data, columns=df.columns)"
   ]
  },
  {
   "cell_type": "code",
   "execution_count": 8,
   "metadata": {},
   "outputs": [],
   "source": [
    "y_car_df = df['가격']\n",
    "X_car_df = df.drop('가격', axis=1)"
   ]
  },
  {
   "cell_type": "code",
   "execution_count": 9,
   "metadata": {},
   "outputs": [],
   "source": [
    "X_train, X_test, y_train, y_test= train_test_split(X_car_df, y_car_df, test_size=0.2)"
   ]
  },
  {
   "cell_type": "code",
   "execution_count": 10,
   "metadata": {},
   "outputs": [
    {
     "name": "stdout",
     "output_type": "stream",
     "text": [
      "\n",
      "      정확도 : 0.7765270193881385\n",
      "      RMSE : 16.251387896687742\n",
      "      MAE : 11.952479335417612\n",
      "      \n"
     ]
    }
   ],
   "source": [
    "linear_model = LinearRegression()\n",
    "linear_model.fit(X_train, y_train)\n",
    "linear_pred = linear_model.predict(X_test)\n",
    "print(f'''\n",
    "      정확도 : {r2_score(y_test, linear_pred)}\n",
    "      RMSE : {np.sqrt(mean_squared_error(y_test, linear_pred))}\n",
    "      MAE : {mean_absolute_error(y_test, linear_pred)}\n",
    "      ''')"
   ]
  },
  {
   "attachments": {},
   "cell_type": "markdown",
   "metadata": {},
   "source": [
    "## 피처 확인"
   ]
  },
  {
   "cell_type": "code",
   "execution_count": 11,
   "metadata": {},
   "outputs": [
    {
     "data": {
      "text/html": [
       "<div>\n",
       "<style scoped>\n",
       "    .dataframe tbody tr th:only-of-type {\n",
       "        vertical-align: middle;\n",
       "    }\n",
       "\n",
       "    .dataframe tbody tr th {\n",
       "        vertical-align: top;\n",
       "    }\n",
       "\n",
       "    .dataframe thead th {\n",
       "        text-align: right;\n",
       "    }\n",
       "</style>\n",
       "<table border=\"1\" class=\"dataframe\">\n",
       "  <thead>\n",
       "    <tr style=\"text-align: right;\">\n",
       "      <th></th>\n",
       "      <th>Features</th>\n",
       "      <th>계수</th>\n",
       "    </tr>\n",
       "  </thead>\n",
       "  <tbody>\n",
       "    <tr>\n",
       "      <th>0</th>\n",
       "      <td>생산년도</td>\n",
       "      <td>4.123215</td>\n",
       "    </tr>\n",
       "    <tr>\n",
       "      <th>1</th>\n",
       "      <td>모델출시년도</td>\n",
       "      <td>1.234517</td>\n",
       "    </tr>\n",
       "    <tr>\n",
       "      <th>2</th>\n",
       "      <td>차량모델명</td>\n",
       "      <td>0.104468</td>\n",
       "    </tr>\n",
       "    <tr>\n",
       "      <th>3</th>\n",
       "      <td>주행거리</td>\n",
       "      <td>-0.000095</td>\n",
       "    </tr>\n",
       "    <tr>\n",
       "      <th>4</th>\n",
       "      <td>배기량</td>\n",
       "      <td>0.021968</td>\n",
       "    </tr>\n",
       "    <tr>\n",
       "      <th>5</th>\n",
       "      <td>연료</td>\n",
       "      <td>0.964275</td>\n",
       "    </tr>\n",
       "    <tr>\n",
       "      <th>6</th>\n",
       "      <td>브랜드_audi</td>\n",
       "      <td>19.320667</td>\n",
       "    </tr>\n",
       "    <tr>\n",
       "      <th>7</th>\n",
       "      <td>브랜드_bmw</td>\n",
       "      <td>5.869069</td>\n",
       "    </tr>\n",
       "    <tr>\n",
       "      <th>8</th>\n",
       "      <td>브랜드_citroen</td>\n",
       "      <td>-6.159071</td>\n",
       "    </tr>\n",
       "    <tr>\n",
       "      <th>9</th>\n",
       "      <td>브랜드_fiat</td>\n",
       "      <td>-15.403952</td>\n",
       "    </tr>\n",
       "    <tr>\n",
       "      <th>10</th>\n",
       "      <td>브랜드_ford</td>\n",
       "      <td>-4.732452</td>\n",
       "    </tr>\n",
       "    <tr>\n",
       "      <th>11</th>\n",
       "      <td>브랜드_honda</td>\n",
       "      <td>8.683474</td>\n",
       "    </tr>\n",
       "    <tr>\n",
       "      <th>12</th>\n",
       "      <td>브랜드_hyundai</td>\n",
       "      <td>-8.507880</td>\n",
       "    </tr>\n",
       "    <tr>\n",
       "      <th>13</th>\n",
       "      <td>브랜드_kia</td>\n",
       "      <td>-3.329713</td>\n",
       "    </tr>\n",
       "    <tr>\n",
       "      <th>14</th>\n",
       "      <td>브랜드_mazda</td>\n",
       "      <td>0.608496</td>\n",
       "    </tr>\n",
       "    <tr>\n",
       "      <th>15</th>\n",
       "      <td>브랜드_mercedes-benz</td>\n",
       "      <td>13.451154</td>\n",
       "    </tr>\n",
       "    <tr>\n",
       "      <th>16</th>\n",
       "      <td>브랜드_mitsubishi</td>\n",
       "      <td>-4.991777</td>\n",
       "    </tr>\n",
       "    <tr>\n",
       "      <th>17</th>\n",
       "      <td>브랜드_nissan</td>\n",
       "      <td>0.275998</td>\n",
       "    </tr>\n",
       "    <tr>\n",
       "      <th>18</th>\n",
       "      <td>브랜드_opel</td>\n",
       "      <td>-6.859903</td>\n",
       "    </tr>\n",
       "    <tr>\n",
       "      <th>19</th>\n",
       "      <td>브랜드_peugeot</td>\n",
       "      <td>4.674140</td>\n",
       "    </tr>\n",
       "    <tr>\n",
       "      <th>20</th>\n",
       "      <td>브랜드_renault</td>\n",
       "      <td>-9.263927</td>\n",
       "    </tr>\n",
       "    <tr>\n",
       "      <th>21</th>\n",
       "      <td>브랜드_seat</td>\n",
       "      <td>-2.834362</td>\n",
       "    </tr>\n",
       "    <tr>\n",
       "      <th>22</th>\n",
       "      <td>브랜드_skoda</td>\n",
       "      <td>0.014228</td>\n",
       "    </tr>\n",
       "    <tr>\n",
       "      <th>23</th>\n",
       "      <td>브랜드_toyota</td>\n",
       "      <td>0.135811</td>\n",
       "    </tr>\n",
       "    <tr>\n",
       "      <th>24</th>\n",
       "      <td>브랜드_volkswagen</td>\n",
       "      <td>5.371004</td>\n",
       "    </tr>\n",
       "    <tr>\n",
       "      <th>25</th>\n",
       "      <td>브랜드_volvo</td>\n",
       "      <td>3.678995</td>\n",
       "    </tr>\n",
       "  </tbody>\n",
       "</table>\n",
       "</div>"
      ],
      "text/plain": [
       "             Features         계수\n",
       "0                생산년도   4.123215\n",
       "1              모델출시년도   1.234517\n",
       "2               차량모델명   0.104468\n",
       "3                주행거리  -0.000095\n",
       "4                 배기량   0.021968\n",
       "5                  연료   0.964275\n",
       "6            브랜드_audi  19.320667\n",
       "7             브랜드_bmw   5.869069\n",
       "8         브랜드_citroen  -6.159071\n",
       "9            브랜드_fiat -15.403952\n",
       "10           브랜드_ford  -4.732452\n",
       "11          브랜드_honda   8.683474\n",
       "12        브랜드_hyundai  -8.507880\n",
       "13            브랜드_kia  -3.329713\n",
       "14          브랜드_mazda   0.608496\n",
       "15  브랜드_mercedes-benz  13.451154\n",
       "16     브랜드_mitsubishi  -4.991777\n",
       "17         브랜드_nissan   0.275998\n",
       "18           브랜드_opel  -6.859903\n",
       "19        브랜드_peugeot   4.674140\n",
       "20        브랜드_renault  -9.263927\n",
       "21           브랜드_seat  -2.834362\n",
       "22          브랜드_skoda   0.014228\n",
       "23         브랜드_toyota   0.135811\n",
       "24     브랜드_volkswagen   5.371004\n",
       "25          브랜드_volvo   3.678995"
      ]
     },
     "execution_count": 11,
     "metadata": {},
     "output_type": "execute_result"
    }
   ],
   "source": [
    "df_feature_importances = pd.DataFrame({'Features':X_car_df.columns,'계수':linear_model.coef_})\n",
    "df_feature_importances"
   ]
  },
  {
   "cell_type": "code",
   "execution_count": 12,
   "metadata": {},
   "outputs": [
    {
     "name": "stdout",
     "output_type": "stream",
     "text": [
      "절편 값 :  -10752.721395842802\n"
     ]
    }
   ],
   "source": [
    "print('절편 값 : ' ,linear_model.intercept_)"
   ]
  },
  {
   "cell_type": "code",
   "execution_count": 13,
   "metadata": {},
   "outputs": [
    {
     "data": {
      "text/plain": [
       "브랜드_audi             19.3\n",
       "브랜드_mercedes-benz    13.5\n",
       "브랜드_honda             8.7\n",
       "브랜드_bmw               5.9\n",
       "브랜드_volkswagen        5.4\n",
       "브랜드_peugeot           4.7\n",
       "생산년도                  4.1\n",
       "브랜드_volvo             3.7\n",
       "모델출시년도                1.2\n",
       "연료                    1.0\n",
       "브랜드_mazda             0.6\n",
       "브랜드_nissan            0.3\n",
       "차량모델명                 0.1\n",
       "브랜드_toyota            0.1\n",
       "주행거리                 -0.0\n",
       "배기량                   0.0\n",
       "브랜드_skoda             0.0\n",
       "브랜드_seat             -2.8\n",
       "브랜드_kia              -3.3\n",
       "브랜드_ford             -4.7\n",
       "브랜드_mitsubishi       -5.0\n",
       "브랜드_citroen          -6.2\n",
       "브랜드_opel             -6.9\n",
       "브랜드_hyundai          -8.5\n",
       "브랜드_renault          -9.3\n",
       "브랜드_fiat            -15.4\n",
       "dtype: float64"
      ]
     },
     "execution_count": 13,
     "metadata": {},
     "output_type": "execute_result"
    }
   ],
   "source": [
    "# 회기 계수가 큰 값 순으로 정렬\n",
    "coeff = pd.Series(data=np.round(linear_model.coef_, 1), index=X_car_df.columns)\n",
    "coeff.sort_values(ascending=False)"
   ]
  },
  {
   "cell_type": "code",
   "execution_count": 14,
   "metadata": {},
   "outputs": [
    {
     "name": "stdout",
     "output_type": "stream",
     "text": [
      "\n",
      "      5 folds의 개별 Negative MSE 스코어 : [-266.35 -265.74 -267.29 -261.9  -262.64]\n",
      "      5 folds의 개별 rmse 스코어 : [16.32 16.3  16.35 16.18 16.21]\n",
      "      5 folds의 평균 rmse 16.271995734660543\n",
      "      \n"
     ]
    }
   ],
   "source": [
    "# cross_val_score()로 5 fold 세트로 MSE를 구한 뒤 이를 기반으로 다시 RMSE를 구함.\n",
    "neg_mse_scores = cross_val_score(linear_model, X_car_df, y_car_df, scoring=\"neg_mean_squared_error\", cv=5)\n",
    "rmse_scores = np.sqrt(-1 * neg_mse_scores)\n",
    "avg_rmse = np.mean(rmse_scores)\n",
    "\n",
    "print(f'''\n",
    "      5 folds의 개별 Negative MSE 스코어 : {np.round(neg_mse_scores, 2)}\n",
    "      5 folds의 개별 rmse 스코어 : {np.round(rmse_scores,2)}\n",
    "      5 folds의 평균 rmse {avg_rmse}\n",
    "      ''')"
   ]
  }
 ],
 "metadata": {
  "kernelspec": {
   "display_name": "meta",
   "language": "python",
   "name": "python3"
  },
  "language_info": {
   "codemirror_mode": {
    "name": "ipython",
    "version": 3
   },
   "file_extension": ".py",
   "mimetype": "text/x-python",
   "name": "python",
   "nbconvert_exporter": "python",
   "pygments_lexer": "ipython3",
   "version": "3.11.3"
  },
  "orig_nbformat": 4
 },
 "nbformat": 4,
 "nbformat_minor": 2
}
